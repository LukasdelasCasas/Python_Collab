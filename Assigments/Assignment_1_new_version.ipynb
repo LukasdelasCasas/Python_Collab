{
 "cells": [
  {
   "cell_type": "markdown",
   "metadata": {},
   "source": [
    "## First Assignment"
   ]
  },
  {
   "cell_type": "markdown",
   "metadata": {},
   "source": [
    "#### 1) Apply the appropriate string methods to the **x** variable (as '.upper') to change it exactly to: \"$Dichlorodiphenyltrichloroethane$\"."
   ]
  },
  {
   "cell_type": "code",
   "execution_count": 27,
   "metadata": {},
   "outputs": [
    {
     "name": "stdout",
     "output_type": "stream",
     "text": [
      "Dichlorodiphenyltrichloroethane\n"
     ]
    }
   ],
   "source": [
    "x = \"DiClOrod  IFeNi  lTRicLOr oETaNo  DiChlorod iPHeny lTrichL oroEThaNe\"\n",
    "\n",
    "x1 = str.lower(x)\n",
    "x1 = x1.replace(\" \", \"\") \n",
    "x2 = x1[27:]\n",
    "x2 = x2.capitalize()\n",
    "\n",
    "print(x2)# I know to complicated, but I´m learning"
   ]
  },
  {
   "cell_type": "markdown",
   "metadata": {},
   "source": [
    "#### 2) Assign respectively the values: 'word', 15, 3.14 and 'list' to variables A, B, C and D in a single line of code. Then, print them in that same order on a single line separated by a space, using only one print statement."
   ]
  },
  {
   "cell_type": "code",
   "execution_count": 29,
   "metadata": {},
   "outputs": [
    {
     "name": "stdout",
     "output_type": "stream",
     "text": [
      "{'A': 'word', 'B': '15', 'C': '3.14', 'D': 'list'}\n"
     ]
    }
   ],
   "source": [
    "dic= {'A':'word', 'B':'15', 'C':'3.14','D': 'list'}\n",
    "print(dic)"
   ]
  },
  {
   "cell_type": "markdown",
   "metadata": {},
   "source": [
    "#### 3) Use the **input()** function to receive an input in the form **'68.4 1.71'**, that is, two floating point numbers in a line separated by space. Then, assign these numbers to the variables ** p ** and ** h ** respectively, which represent an individual's weight and height (hint: take a look at the '.split ()' method). With this data, calculate the individual's Body Mass Index (BMI) from the following relationship: \n",
    "    \n",
    "\\begin{equation}\n",
    "BMI = \\dfrac{weight}{height^2}\n",
    "\\end{equation}"
   ]
  },
  {
   "cell_type": "code",
   "execution_count": 33,
   "metadata": {},
   "outputs": [
    {
     "name": "stdout",
     "output_type": "stream",
     "text": [
      "initinput: 77.4 1.78\n",
      "77.4\n",
      "1.78\n",
      "24.428733745739176\n"
     ]
    }
   ],
   "source": [
    "init = input('initinput: ') # split issue with not separated numbers 77.4 1.78\n",
    "p,h = [float(init) for init in init.split(\" \")]\n",
    "\n",
    "\n",
    "\n",
    "print(p)\n",
    "print(h)\n",
    "\n",
    "bmi = p/(h**2)\n",
    "print(bmi)"
   ]
  },
  {
   "cell_type": "markdown",
   "metadata": {},
   "source": [
    "#### This value can also be classified according to ranges of values, following to the table below. Use conditional structures to classify and print the classification assigned to the individual. \n",
    "\n",
    "<center><img src=\"https://api.kramesstaywell.com/Content/6066ca30-310a-4170-b001-a4ab013d61fd/ucr-images-v1/Images/body-mass-index-table-showing-bmi-numbers-for-height-and-weight-403385\" width=\"40%\"><\\center>"
   ]
  },
  {
   "cell_type": "code",
   "execution_count": 34,
   "metadata": {},
   "outputs": [
    {
     "name": "stdout",
     "output_type": "stream",
     "text": [
      "Healthy weight\n"
     ]
    }
   ],
   "source": [
    "if (bmi < 18.5):\n",
    "    print(\"Underweight\")\n",
    "elif (18.5 <= bmi):\n",
    "    print(\"Healthy weight\")\n",
    "elif (25 <= bmi):\n",
    "    print(\"Overweight\")\n",
    "elif (30 <= bmi):\n",
    "    print(\"Obese\")\n",
    "else:\n",
    "    print(\"Not working\")"
   ]
  },
  {
   "cell_type": "markdown",
   "metadata": {},
   "source": [
    "#### 4) Receive an integer as an input and, using a loop, calculate the factorial of this number, that is, the product of all the integers from one to the number provided. "
   ]
  },
  {
   "cell_type": "code",
   "execution_count": 35,
   "metadata": {},
   "outputs": [
    {
     "name": "stdout",
     "output_type": "stream",
     "text": [
      "use number:8\n",
      "<class 'str'>\n",
      "factorial of  8  is  40320\n"
     ]
    }
   ],
   "source": [
    "n = int(input(\"use number:\")) # 7\n",
    "print(type(init))   \n",
    "\n",
    "init = 1\n",
    "\n",
    "for i in range(1, n+1):\n",
    "    init = init*i\n",
    "\n",
    "print(\"factorial of \", n, ' is ', init) \n",
    "    \n"
   ]
  },
  {
   "cell_type": "markdown",
   "metadata": {},
   "source": [
    "#### 5) Using a while loop and the input function, read an indefinite number of integers until the number read is -1. Present the sum of all these numbers in the form of a print, excluding the -1 read at the end. "
   ]
  },
  {
   "cell_type": "code",
   "execution_count": 37,
   "metadata": {},
   "outputs": [
    {
     "name": "stdout",
     "output_type": "stream",
     "text": [
      "Enter a number: 3\n",
      "[3, 2, 1, 0]\n",
      "6\n"
     ]
    }
   ],
   "source": [
    "num = int(input(\"Enter a number: \"))\n",
    "list= []\n",
    "count= 0\n",
    "while num > -1:\n",
    "    list.append(num)\n",
    "    count = count+num\n",
    "    num= num-1\n",
    "else:\n",
    "    print(list)\n",
    "    print(count)"
   ]
  },
  {
   "cell_type": "markdown",
   "metadata": {},
   "source": [
    "#### 6) Read the **name** of an employee, his **number of hours worked** and the **sallary per hour** in a single line separated by space. Next, calculate the **total salary** for this employee and show it to two decimal places. "
   ]
  },
  {
   "cell_type": "code",
   "execution_count": 90,
   "metadata": {},
   "outputs": [
    {
     "name": "stdout",
     "output_type": "stream",
     "text": [
      "206.25\n"
     ]
    }
   ],
   "source": [
    "# understood that the info should be stored in a string\n",
    "import math\n",
    "\n",
    "employ = \"Martin 13.20223 15.62231\"\n",
    "name, hour, salary = [employ for employ in employ.split(\" \")]\n",
    "hour, salary = float(hour), float(salary)\n",
    "\n",
    "income = hour * salary\n",
    "\n",
    "print(round(income, 2))\n"
   ]
  },
  {
   "cell_type": "markdown",
   "metadata": {},
   "source": [
    "#### 7) Read three floating point values **A**, **B** and **C** respectively. Then calculate and show: "
   ]
  },
  {
   "cell_type": "code",
   "execution_count": 39,
   "metadata": {},
   "outputs": [
    {
     "name": "stdout",
     "output_type": "stream",
     "text": [
      "Enter three points2.3,2.4,2.5\n",
      "2.3 2.4 2.5\n"
     ]
    }
   ],
   "source": [
    "A,B,C = input(\"Enter three points\").split(',')\n",
    "A = float(A)\n",
    "B = float(B)\n",
    "C = float(C)\n",
    "print (A, B, C)"
   ]
  },
  {
   "cell_type": "markdown",
   "metadata": {},
   "source": [
    "    a) the area of the triangle rectangle with A as the base and C as the height."
   ]
  },
  {
   "cell_type": "code",
   "execution_count": 40,
   "metadata": {},
   "outputs": [
    {
     "name": "stdout",
     "output_type": "stream",
     "text": [
      "2.875\n"
     ]
    }
   ],
   "source": [
    "area = (A*C)/2\n",
    "print(area)"
   ]
  },
  {
   "cell_type": "markdown",
   "metadata": {},
   "source": [
    "    b) the area of the circle of radius C. (pi = 3.14159) "
   ]
  },
  {
   "cell_type": "code",
   "execution_count": 41,
   "metadata": {},
   "outputs": [
    {
     "name": "stdout",
     "output_type": "stream",
     "text": [
      "15.707963267948966\n"
     ]
    }
   ],
   "source": [
    "import math # To be honest I had to google the function\n",
    "\n",
    "pi = math.pi\n",
    "\n",
    "area = (C*2)*pi   \n",
    "\n",
    "print(area)"
   ]
  },
  {
   "cell_type": "markdown",
   "metadata": {},
   "source": [
    "    c) the area of the trapezoid that has A and B for bases and C for height. "
   ]
  },
  {
   "cell_type": "code",
   "execution_count": 42,
   "metadata": {},
   "outputs": [
    {
     "name": "stdout",
     "output_type": "stream",
     "text": [
      "5.874999999999999\n"
     ]
    }
   ],
   "source": [
    "area = 0.5*(A+B)*C\n",
    "print(area)"
   ]
  },
  {
   "cell_type": "markdown",
   "metadata": {},
   "source": [
    "    d) the area of the square that has side B. "
   ]
  },
  {
   "cell_type": "code",
   "execution_count": 45,
   "metadata": {},
   "outputs": [
    {
     "name": "stdout",
     "output_type": "stream",
     "text": [
      "5.76\n"
     ]
    }
   ],
   "source": [
    "area = B*B\n",
    "print(area)"
   ]
  },
  {
   "cell_type": "markdown",
   "metadata": {},
   "source": [
    "    e) the area of the rectangle that has sides A and B. "
   ]
  },
  {
   "cell_type": "code",
   "execution_count": 44,
   "metadata": {},
   "outputs": [
    {
     "name": "stdout",
     "output_type": "stream",
     "text": [
      "5.52\n"
     ]
    }
   ],
   "source": [
    "area = A*B\n",
    "print(area)"
   ]
  },
  {
   "cell_type": "markdown",
   "metadata": {},
   "source": [
    "#### 8) Read **3 floating point values** and calculate the **roots of the second degree equation** formed by these coefficients (using [this formula](https://en.wikipedia.org/wiki/Quadratic_equation)). If it is not possible to calculate the roots, display the message **“There are no real roots”**. "
   ]
  },
  {
   "cell_type": "code",
   "execution_count": 46,
   "metadata": {},
   "outputs": [
    {
     "name": "stdout",
     "output_type": "stream",
     "text": [
      "There are two solutions (-0.3003436994436531, -2.3782277291277754)\n"
     ]
    }
   ],
   "source": [
    "import cmath    # solution sarah\n",
    "x,y,z = input(\"Enter three numbers\").split(',')\n",
    "x = float(x)\n",
    "y = float(y)\n",
    "z = float(z)\n",
    "\n",
    "# calculate the discriminant\n",
    "d = (y**2) - (4*x*z)\n",
    "\n",
    "# find two solutions\n",
    "try: \n",
    "    sol1 = (-y-cmath.sqrt(d))/(2*x)\n",
    "    sol2 = (-y+cmath.sqrt(d))/(2*x)\n",
    "except ValueError:\n",
    "    print(\"there are no real roots\")\n",
    "\n",
    "print('The solution are {0} and {1}'.format(sol1,sol2))"
   ]
  },
  {
   "cell_type": "code",
   "execution_count": 48,
   "metadata": {},
   "outputs": [
    {
     "name": "stdout",
     "output_type": "stream",
     "text": [
      "a is:2.24\n",
      "b is:6.0\n",
      "c is:1.6\n",
      "There are two solutions (-0.3003436994436531, -2.3782277291277754)\n"
     ]
    }
   ],
   "source": [
    "#  (a*x^2) + b*x + c = 0\n",
    "\n",
    "# solution lukas \n",
    "\n",
    "a = float(input(\"a is:\"))\n",
    "b = float(input(\"b is:\"))\n",
    "c = float(input(\"c is:\"))\n",
    "\n",
    "w = b**2 - 4 * a *c  # diskriminante quadratische gleichung \n",
    "\n",
    "if w>0: # is r positiv there are two possible solutions for x\n",
    "    x1 = (((-b) + (math.sqrt(w)))/(2*a))\n",
    "    x2 = (((-b) - (math.sqrt(w)))/(2*a))\n",
    "    print('There are two solutions', (x1,x2))\n",
    "elif w == 0:\n",
    "    x = (-b)/2*a\n",
    "    print('One solution')\n",
    "elif w < 0:\n",
    "        print('There are no real roots')\n",
    "        \n"
   ]
  },
  {
   "cell_type": "markdown",
   "metadata": {},
   "source": [
    "#### 9) Read four floating point numerical values corresponding to the coordinates of two geographical coordinates in the cartesian plane. Each point will come in a line with its coordinates separated by space. Then calculate and show the distance between these two points. \n",
    "\n",
    "(obs: $d=\\sqrt{(x_1-x_2)^2 + (y_1-y_2)^2}$)"
   ]
  },
  {
   "cell_type": "code",
   "execution_count": 50,
   "metadata": {
    "scrolled": true
   },
   "outputs": [
    {
     "name": "stdout",
     "output_type": "stream",
     "text": [
      "21.533840328415646\n"
     ]
    }
   ],
   "source": [
    "# calculation\n",
    "import math\n",
    "\n",
    "lat1, lon1, lat2, lon2 = 40.4165000, -3.7025600, 48.2084900, 16.3720800  # coordinaten madridd und wien through assignement\n",
    "mad = [40.4165000, -3.7025600]\n",
    "wie = [48.2084900, 16.3720800]\n",
    "\n",
    "distance =  math.sqrt(((mad[0]-wie[0])**2)+((mad[1]-wie[1])**2))\n",
    "print(distance)"
   ]
  },
  {
   "cell_type": "markdown",
   "metadata": {},
   "source": [
    "#### 10) Read ** two floating point numbers ** on a line that represent **coordinates of a cartesian point**. With this, use **conditional structures** to determine if you are at the origin, printing the message **'origin'**, in one of the axes, printing **'x axis'** or **'y axis'**; or in one of the four quadrants, printing **'q1'**, **'q2**', **'q3'** or **'q4'**. "
   ]
  },
  {
   "cell_type": "code",
   "execution_count": 51,
   "metadata": {},
   "outputs": [
    {
     "name": "stdout",
     "output_type": "stream",
     "text": [
      "Enter the Value for X2.0\n",
      "Enter the Value for Y-3\n",
      "Both  2.0  and  -3.0  are digits\n",
      "q4\n"
     ]
    }
   ],
   "source": [
    "# only digits as input allowed, also practicing while loop \n",
    "\n",
    "while True:\n",
    "    try:\n",
    "        x = float(input('Enter the Value for X'))\n",
    "        y = float(input('Enter the Value for Y'))\n",
    "    except ValueError:\n",
    "        print('x and y have to be digits')\n",
    "        continue\n",
    "    else:\n",
    "        print('Both ', x, ' and ', y, ' are digits')\n",
    "        break\n",
    "        \n",
    "        \n",
    "\n",
    "    \n",
    "\n",
    "if x == 0 and y == 0:\n",
    "    print('Point is at the origin')\n",
    "\n",
    "elif x > 0 and y > 0:\n",
    "    print('q1')\n",
    "\n",
    "elif x < 0 and y > 0:\n",
    "    print('q2')\n",
    "    \n",
    "elif x < 0 and y < 0:\n",
    "    print('q3')\n",
    "    \n",
    "elif x > 0 and y < 0:\n",
    "    print ('q4')\n",
    "\n",
    "else:\n",
    "    print('not working what so ever')"
   ]
  },
  {
   "cell_type": "markdown",
   "metadata": {},
   "source": [
    "#### 11) Read an integer that represents a phone code for international dialing. Then, inform to which city the code belongs to, considering the picture below [(from this table)](https://en.wikipedia.org/wiki/Telephone_numbers_in_Europe). \n",
    "\n",
    "<center><img src=\"https://upload.wikimedia.org/wikipedia/commons/thumb/3/3e/Country_Calling_Codes_of_Europe.png/500px-Country_Calling_Codes_of_Europe.png\" width=\"40%\"><\\center>"
   ]
  },
  {
   "cell_type": "code",
   "execution_count": 53,
   "metadata": {},
   "outputs": [
    {
     "name": "stdout",
     "output_type": "stream",
     "text": [
      "Enter a phone code: 43\n",
      "('Austria', 43)\n"
     ]
    }
   ],
   "source": [
    "# make a dictionaire with countrycodes and match the code e.g. dictionaire with 5 keys\n",
    "# not for every point in data table\n",
    "\n",
    "pho = int(input(\"Enter a phone code: \"))\n",
    "countrydic = {'Austria':43, 'Belgium':32,'Bulgaria':359, 'Croatia':385, 'Cyprus':357, 'Czech Republic':420, 'Denmark':45, 'Estonia':372, 'Finland':358, 'France':33}\n",
    "\n",
    "for value in countrydic.items():\n",
    "    if pho in value:\n",
    "        print(value)"
   ]
  },
  {
   "cell_type": "markdown",
   "metadata": {},
   "source": [
    "#### 12) Write a piece of code that reads 6 values in a row. Next, show the number of positive values entered. On the next line, print the average of the values to one decimal place. "
   ]
  },
  {
   "cell_type": "code",
   "execution_count": 14,
   "metadata": {},
   "outputs": [
    {
     "name": "stdout",
     "output_type": "stream",
     "text": [
      "Enter multiple numbers4\n",
      "3\n",
      "2\n",
      "3\n",
      "4\n",
      "5\n",
      "6\n",
      "6\n",
      "3.8\n"
     ]
    }
   ],
   "source": [
    "N = int(input('Enter 6 numbers'))                 # Enter 6 to enter 6 values\n",
    "init = []\n",
    "count_pos = 0\n",
    "\n",
    "\n",
    "for num in range(0,6):\n",
    "    n = int(input())\n",
    "    if (n>0):\n",
    "        init.append(n)\n",
    "        \n",
    "        count_pos += 1\n",
    "        avg = sum(init)/(count_pos)\n",
    "        \n",
    "       \n",
    "    \n",
    "\n",
    "    \n",
    "print(count_pos)\n",
    "print(round(avg, 1))    "
   ]
  },
  {
   "cell_type": "markdown",
   "metadata": {},
   "source": [
    "#### 13) Read an integer **N**. Then print the **square of each of the even values**, from 1 to N, including N, if applicable, arranged one per line. "
   ]
  },
  {
   "cell_type": "code",
   "execution_count": 56,
   "metadata": {},
   "outputs": [
    {
     "name": "stdout",
     "output_type": "stream",
     "text": [
      "Use a number 9\n",
      "The square of  2  is 4\n",
      "The square of  4  is 16\n",
      "The square of  6  is 36\n",
      "The square of  8  is 64\n"
     ]
    }
   ],
   "source": [
    "N = int(input('Use a number ')) # I´don´t know how to include N when N = odd?\n",
    "\n",
    "for num in range(1, N+1):     # seems to work now, I don´t know why \n",
    "    if (num % 2 == 0):\n",
    "        squared_and_even = (num**2)\n",
    "        print(\"The square of \", num, \" is\", squared_and_even)\n",
    "    \n",
    "    else:\n",
    "        continue\n",
    "        # print(\"wrong, odd or both\")\n",
    "        "
   ]
  },
  {
   "cell_type": "markdown",
   "metadata": {},
   "source": [
    "#### 14) Using **input()**, read an integer and print its classification as **'even / odd'** and **'positive / negative'** . The two classes for the number must be printed on the same line separated by a space. In the case of zero, print only **'null'**. "
   ]
  },
  {
   "cell_type": "code",
   "execution_count": 59,
   "metadata": {},
   "outputs": [
    {
     "name": "stdout",
     "output_type": "stream",
     "text": [
      "Enter the digit 12\n",
      "The class of this number is defined as even and positive\n"
     ]
    }
   ],
   "source": [
    "def even_odd(n):\n",
    "    if(N==0):\n",
    "        return \"null\"\n",
    "    elif(N % 2)==0:\n",
    "        return \"even\"\n",
    "    elif(N % 2)==1:\n",
    "        return \"odd\"\n",
    "   \n",
    "    \n",
    "def pos_neg(n):\n",
    "    if(n>0):\n",
    "        return \"positive\"\n",
    "    elif(n<0):\n",
    "        return \"negative\"\n",
    "    elif(n==0):\n",
    "        return \"neither positive or negative\"\n",
    "    \n",
    "N = int(input('Enter the digit '))     \n",
    "    \n",
    "print(\"The class of this number is defined as\", even_odd(N), \"and\", pos_neg(N))\n",
    " "
   ]
  },
  {
   "cell_type": "markdown",
   "metadata": {},
   "source": [
    "## Challenge\n",
    "#### 15) Ordering problems are recurrent in the history of programming. Over time, several algorithms have been developed to fulfill this function. The simplest of these algorithms is the [**Bubble Sort**](https://en.wikipedia.org/wiki/Bubble_sort), which is based on comparisons of elements two by two in a loop of passes through the elements. Your mission, if you decide to accept it, will be to input six whole numbers ramdonly ordered. Then implement the **Bubble Sort** principle to order these six numbers **using only loop and conditional structure**. At the end, print the six numbers in ascending order on a single line separated by space. "
   ]
  },
  {
   "cell_type": "code",
   "execution_count": 58,
   "metadata": {},
   "outputs": [
    {
     "ename": "IndentationError",
     "evalue": "expected an indented block (<ipython-input-58-9639f19da750>, line 10)",
     "output_type": "error",
     "traceback": [
      "\u001b[1;36m  File \u001b[1;32m\"<ipython-input-58-9639f19da750>\"\u001b[1;36m, line \u001b[1;32m10\u001b[0m\n\u001b[1;33m    print (\"%d\" %arr[i])\u001b[0m\n\u001b[1;37m        ^\u001b[0m\n\u001b[1;31mIndentationError\u001b[0m\u001b[1;31m:\u001b[0m expected an indented block\n"
     ]
    }
   ],
   "source": [
    "\n",
    "    \n",
    "for i in range(6,1):\n",
    "    list1 = [int(item) for item in input(\"Enter the list items : \").split(',')]\n",
    "    for j in range(0,6-i-1):\n",
    "        if arr[j] > arr[j+1]:\n",
    "            arr[j], arr[j+1] = arr[j+1], arr[j]\n",
    "            \n",
    "            \n",
    "            print(\"Sorted array is:\")\n",
    "            for i in range(len(list1)):\n",
    "            print (\"%d\" %arr[i])\n",
    "        \n",
    "        \n",
    "    "
   ]
  }
 ],
 "metadata": {
  "kernelspec": {
   "display_name": "Python 3",
   "language": "python",
   "name": "python3"
  },
  "language_info": {
   "codemirror_mode": {
    "name": "ipython",
    "version": 3
   },
   "file_extension": ".py",
   "mimetype": "text/x-python",
   "name": "python",
   "nbconvert_exporter": "python",
   "pygments_lexer": "ipython3",
   "version": "3.7.0"
  }
 },
 "nbformat": 4,
 "nbformat_minor": 4
}
