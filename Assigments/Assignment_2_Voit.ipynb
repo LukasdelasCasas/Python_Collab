{
 "cells": [
  {
   "cell_type": "markdown",
   "metadata": {},
   "source": [
    "## Second Assignment"
   ]
  },
  {
   "cell_type": "markdown",
   "metadata": {},
   "source": [
    "#### 1) Create a function called **\"even_squared\"** that receives an integer value **N**, and returns a list containing, in ascending order, the square of each of the even values, from 1 to N, including N if applicable. "
   ]
  },
  {
   "cell_type": "code",
   "execution_count": 124,
   "metadata": {},
   "outputs": [
    {
     "name": "stdout",
     "output_type": "stream",
     "text": [
      "Give N an integer value8\n",
      "[4, 16, 36, 64]\n"
     ]
    }
   ],
   "source": [
    "def even_squared(num):\n",
    "    N = int(input(\"Give N an integer value\"))\n",
    "    even_sum_list = []\n",
    "    for num in range(1, N+1):\n",
    "        if (num % 2 == 0):\n",
    "            s = (num**2)\n",
    "            even_sum_list.append(s)\n",
    "    return sorted(even_sum_list, reverse = False)\n",
    "        \n",
    "    \n",
    "x = even_squared(num)\n",
    "print(x)"
   ]
  },
  {
   "cell_type": "markdown",
   "metadata": {},
   "source": [
    "#### 2) Using a while loop and the **input()** function, read an indefinite amount of **integers** until the number read is **-1**. After this process, print two lists on the screen: The first containing the even integers, and the second containing the odd integers. Both must be in ascending order. "
   ]
  },
  {
   "cell_type": "code",
   "execution_count": 86,
   "metadata": {},
   "outputs": [
    {
     "name": "stdout",
     "output_type": "stream",
     "text": [
      "Input Number 2\n",
      "Input Number 3\n",
      "Input Number 4\n",
      "Input Number 5\n",
      "Input Number 6\n",
      "Input Number 6\n",
      "Input Number 7\n",
      "Input Number 1\n",
      "Input Number -1\n",
      "[1, 3, 5, 7]\n"
     ]
    }
   ],
   "source": [
    "even = []\n",
    "odd = []\n",
    "\n",
    "while True:     # question: Waht do I have to do to not get an error message, when nothing is entered\n",
    "    init = int(input('Input Number '))     \n",
    "    if (init <= (-1)):\n",
    "        break\n",
    "    elif (init == 0):\n",
    "        break\n",
    "    elif (init % 2 == 0):\n",
    "        even.append(init)\n",
    "    elif init % 2 == 1:\n",
    "        odd.append(init)\n",
    "\n",
    "      \n",
    "    \n",
    "x = sorted(odd, reverse= False) \n",
    "print(x)\n",
    "\n",
    "y = sorted(even, reverse= False)\n",
    "print(y)"
   ]
  },
  {
   "cell_type": "markdown",
   "metadata": {},
   "source": [
    "#### 3) Create a function called **\"even_account\"** that receives a list of integers, counts the number of existing even elements, and returns this count. "
   ]
  },
  {
   "cell_type": "code",
   "execution_count": 142,
   "metadata": {},
   "outputs": [
    {
     "name": "stdout",
     "output_type": "stream",
     "text": [
      "Enter multiple numbers5\n",
      "1\n",
      "2\n",
      "3\n",
      "4\n",
      "5\n",
      "([2, 4], 2)\n"
     ]
    }
   ],
   "source": [
    "\n",
    "\n",
    "def even_account(N):\n",
    "    N = int(input('Enter multiple numbers'))                 # Enter number of objects\n",
    "    init = []\n",
    "    even_count = 0\n",
    "    for num in range(0,N):                                   # Enter numbers in list \n",
    "        n = int(input())\n",
    "        if (n % 2 == 0):\n",
    "            init.append(n)\n",
    "            even_count += 1\n",
    "           # even_count = init.count()     # not working \n",
    "    return init, even_count\n",
    "    \n",
    "\n",
    "x = even_account(N)\n",
    "\n",
    "print(x)"
   ]
  },
  {
   "cell_type": "markdown",
   "metadata": {},
   "source": [
    "#### 4) Create a function called **\"squared_list\"** that receives a list of integers and returns another list whose elements are the squares of the elements of the first. "
   ]
  },
  {
   "cell_type": "code",
   "execution_count": 147,
   "metadata": {},
   "outputs": [
    {
     "name": "stdout",
     "output_type": "stream",
     "text": [
      "Enter a variaty of numbers8\n",
      "7\n",
      "6\n",
      "5\n",
      "6\n",
      "5\n",
      "4\n",
      "5\n",
      "6\n",
      "[49, 36, 25, 36, 25, 16, 25, 36]\n"
     ]
    }
   ],
   "source": [
    "def squared_list(N):\n",
    "    N = int((input('Enter a variaty of numbers')))\n",
    "    init = []\n",
    "    for num in range(0, N):\n",
    "        n = int(input())\n",
    "        squares = (n**2)\n",
    "        init.append(squares)\n",
    "    return init\n",
    "        \n",
    "x = squared_list(N)\n",
    "print(x)"
   ]
  },
  {
   "cell_type": "markdown",
   "metadata": {},
   "source": [
    "#### 5) Create a function called **\"descending\"** that receives two lists of integers and returns a single list, which contains all the elements in descending order, and may include repeated elements. "
   ]
  },
  {
   "cell_type": "code",
   "execution_count": 177,
   "metadata": {},
   "outputs": [
    {
     "name": "stdout",
     "output_type": "stream",
     "text": [
      "Enter length of list init1\n",
      "Enter length of list nokia3\n",
      "-1\n",
      "2\n",
      "3\n",
      "4\n",
      "[4, 3, 2, -1]\n"
     ]
    }
   ],
   "source": [
    "def descending(S,N):  # is there an option to enter a list by input right away? like 1,2,3,4,5\n",
    "    N = int((input('Enter length of list init')))\n",
    "    S = int((input('Enter length of list nokia')))\n",
    "    init = []\n",
    "    nokia = []\n",
    "    for num in range(0,N):\n",
    "        n = int(input())\n",
    "        init.append(n)\n",
    "        for num in range(0,S):\n",
    "            s = int(input())\n",
    "            nokia.append(s)\n",
    "            joinedlist = nokia + init\n",
    "    return  sorted(joinedlist, reverse = True)\n",
    "\n",
    "\n",
    "x = descending(S,N)\n",
    "print(x)\n",
    "    "
   ]
  },
  {
   "cell_type": "markdown",
   "metadata": {},
   "source": [
    "#### 6) Create a function called **\"adding\"** that receives a list **A**, and an arbitrary number of integers as input. Return a new list containing the elements of **A** plus the integers passed as input, in the order in which they were given. Here is an example: \n",
    "\n",
    ">```python\n",
    ">>>> A = [10,20,30]\n",
    ">>>> adding(A, 4, 10, 50, 1)\n",
    "> [10, 20, 30, 4, 10, 50, 1]\n",
    "```"
   ]
  },
  {
   "cell_type": "code",
   "execution_count": 236,
   "metadata": {},
   "outputs": [
    {
     "ename": "TypeError",
     "evalue": "adding() takes 2 positional arguments but 5 were given",
     "output_type": "error",
     "traceback": [
      "\u001b[1;31m---------------------------------------------------------------------------\u001b[0m",
      "\u001b[1;31mTypeError\u001b[0m                                 Traceback (most recent call last)",
      "\u001b[1;32m<ipython-input-236-8a8a9005cd9e>\u001b[0m in \u001b[0;36m<module>\u001b[1;34m\u001b[0m\n\u001b[0;32m     10\u001b[0m \u001b[1;33m\u001b[0m\u001b[0m\n\u001b[0;32m     11\u001b[0m \u001b[1;33m\u001b[0m\u001b[0m\n\u001b[1;32m---> 12\u001b[1;33m \u001b[0mx\u001b[0m \u001b[1;33m=\u001b[0m \u001b[0madding\u001b[0m\u001b[1;33m(\u001b[0m\u001b[0mA\u001b[0m\u001b[1;33m,\u001b[0m \u001b[1;36m4\u001b[0m\u001b[1;33m,\u001b[0m\u001b[1;36m10\u001b[0m\u001b[1;33m,\u001b[0m\u001b[1;36m50\u001b[0m\u001b[1;33m,\u001b[0m\u001b[1;36m1\u001b[0m\u001b[1;33m)\u001b[0m\u001b[1;33m\u001b[0m\u001b[0m\n\u001b[0m\u001b[0;32m     13\u001b[0m \u001b[0mx\u001b[0m \u001b[1;33m=\u001b[0m \u001b[0mPrint\u001b[0m\u001b[1;33m(\u001b[0m\u001b[0mx\u001b[0m\u001b[1;33m)\u001b[0m\u001b[1;33m\u001b[0m\u001b[0m\n\u001b[0;32m     14\u001b[0m \u001b[1;33m\u001b[0m\u001b[0m\n",
      "\u001b[1;31mTypeError\u001b[0m: adding() takes 2 positional arguments but 5 were given"
     ]
    }
   ],
   "source": [
    "A = [10,20,30]\n",
    "\n",
    "\n",
    "\n",
    "\n",
    "def adding(A,N):\n",
    "    init= A+N\n",
    "    print(init)\n",
    "\n",
    "\n",
    "\n",
    "x = adding(A, 4,10,50,1)\n",
    "x = Print(x)\n",
    "        \n",
    "        \n",
    "    \n",
    "    \n",
    "    "
   ]
  },
  {
   "cell_type": "markdown",
   "metadata": {},
   "source": [
    "#### 7) Create a function called **\"intersection\"** that receives two input lists and returns another list with the values that belong to the two lists simultaneously (intersection) without repetition of values and in ascending order. Use only lists (do not use sets); loops and conditionals. See the example: \n",
    "\n",
    ">```python\n",
    ">>>> A = [-2, 0, 1, 2, 3]\n",
    ">>>> B = [-1, 2, 3, 6, 8]\n",
    ">>>> intersection(A,B)\n",
    "> [2, 3]\n",
    "```"
   ]
  },
  {
   "cell_type": "code",
   "execution_count": 216,
   "metadata": {},
   "outputs": [
    {
     "name": "stdout",
     "output_type": "stream",
     "text": [
      "[3, 6, 8]\n"
     ]
    }
   ],
   "source": [
    "A = [-2, 0, 1, 2, 3]\n",
    "B = [-1, 2, 3, 6, 8]\n",
    "D = [-8,-7, 6,-2, 8, 3, 0]\n",
    "    \n",
    "def intersection(A, B):    \n",
    "    init = []\n",
    "    for i in A:\n",
    "        for i in A:\n",
    "            if i in B:\n",
    "                init.append(i)\n",
    "        return init\n",
    "    \n",
    "            \n",
    "            \n",
    "x = intersection(B, D)\n",
    "print(x)     \n",
    "\n",
    "\n",
    "\n"
   ]
  },
  {
   "cell_type": "markdown",
   "metadata": {},
   "source": [
    "#### 8) Create a function called **\"union\"** that receives two input lists and returns another list with the union of the elements of the two received, without repetition of elements and in ascending order. Use only lists (do not use sets); loops and conditionals. See the example: \n",
    "\n",
    ">```python\n",
    ">>>> A = [-2, 0, 1, 2]\n",
    ">>>> B = [-1, 1, 2, 10]\n",
    ">>>> union(A,B)\n",
    "> [-2, ,-1, 0, 1, 2, 10]\n",
    "```"
   ]
  },
  {
   "cell_type": "code",
   "execution_count": 200,
   "metadata": {},
   "outputs": [
    {
     "name": "stdout",
     "output_type": "stream",
     "text": [
      "[-2, -1, 0, 1, 2, 10]\n"
     ]
    }
   ],
   "source": [
    "nokia = [-2, 0, 1, 2]\n",
    "init = [-1, 1, 2, 10]\n",
    "\n",
    "def union(init, nokia):\n",
    "    unified = []\n",
    "    for i in init:\n",
    "        for n in nokia:\n",
    "            if n not in init:\n",
    "                init.append(n)\n",
    "                unified = sorted(init)\n",
    "    return unified #unified without set\n",
    "            \n",
    "            \n",
    "                \n",
    "x = union(init,nokia)\n",
    "print(x)"
   ]
  },
  {
   "cell_type": "markdown",
   "metadata": {},
   "source": [
    "#### 9) Generalize the **\"intersection\"** function so that it receives an indefinite number of lists and returns the intersection of all of them. Call the new function **intersection2**. "
   ]
  },
  {
   "cell_type": "code",
   "execution_count": 228,
   "metadata": {},
   "outputs": [
    {
     "name": "stdout",
     "output_type": "stream",
     "text": [
      "[]\n"
     ]
    }
   ],
   "source": [
    "A = [-2, 0, 1, 2, 3]  \n",
    "B = [-1, 2, 3, 6, 8]\n",
    "D = [-8,-7, 6,-2, 8, 3, 0]\n",
    "E = [[-8,-7, 6,-2, 8, 3, 0],[-1, 2, 3, 6, 8],[-2, 0, 1, 2, 3]]\n",
    "\n",
    "def intersection(*E):\n",
    "    init = [i for i in A if i in B]       \n",
    "    return init                           \n",
    "\n",
    "\n",
    "    \n",
    "    \n",
    "x = intersection_2(E)\n",
    "print(x)\n",
    "    "
   ]
  },
  {
   "cell_type": "markdown",
   "metadata": {},
   "source": [
    "## Challenge\n",
    "\n",
    "#### 10) Create a function named **\"matrix\"** that implements matrix multiplication:\n",
    "    \n",
    "Given the matrices:\n",
    "    \n",
    "$A_{m\\times n}=\n",
    "\\left[\\begin{matrix}\n",
    "a_{11}&a_{12}&...&a_{1n}\\\\\n",
    "a_{21}&a_{22}&...&a_{2n}\\\\\n",
    "\\vdots &\\vdots &&\\vdots\\\\\n",
    "a_{m1}&a_{m2}&...&a_{mn}\\\\\n",
    "\\end{matrix}\\right]$\n",
    "    \n",
    "We will represent then as a list of lists.\n",
    "\n",
    "$A = [[a_{11},a_{12},...,a_{1n}],[a_{21},a_{22},...,a_{2n}], . . . ,[a_{m1},a_{m2},...,a_{mn}]]$\n",
    "\n",
    "The **\"matrix\"** funtion must receive two matrices $A$ e $B$ in the specified format and return $A\\times B$"
   ]
  },
  {
   "cell_type": "code",
   "execution_count": null,
   "metadata": {},
   "outputs": [],
   "source": [
    "# haven´t tried yet"
   ]
  }
 ],
 "metadata": {
  "kernelspec": {
   "display_name": "Python 3",
   "language": "python",
   "name": "python3"
  },
  "language_info": {
   "codemirror_mode": {
    "name": "ipython",
    "version": 3
   },
   "file_extension": ".py",
   "mimetype": "text/x-python",
   "name": "python",
   "nbconvert_exporter": "python",
   "pygments_lexer": "ipython3",
   "version": "3.7.0"
  }
 },
 "nbformat": 4,
 "nbformat_minor": 4
}
