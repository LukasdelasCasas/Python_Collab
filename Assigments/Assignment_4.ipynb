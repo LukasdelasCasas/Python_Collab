{
 "cells": [
  {
   "cell_type": "markdown",
   "metadata": {},
   "source": [
    "## Fourth Assignment"
   ]
  },
  {
   "cell_type": "markdown",
   "metadata": {},
   "source": [
    "#### 1) Suppose that in this term you have only two courses: Calculus II and Programming Languages. Create a function **grades()** that receives two tuples (or lists) of three elements representing the grades of the assigments A1, A2 and A3 in that order. The first tuple (or list) refers to the grades of Calculus II and the second to the grades of Programming Languages. Return a dictionary whose keys are the names of the course and the values are another dict with keys 'A1', 'A2' and 'A3' and values being the corresponding grades. See example below.\n",
    "\n",
    ">```python\n",
    ">>>> grades((4,8,7),(9,8,0))\n",
    ">{'Calculus II': {'A1': 4, 'A2': 8, 'A3': 7}, 'Programming Languages': {'A1': 9, 'A2': 8, 'A3': 0}}\n",
    "```"
   ]
  },
  {
   "cell_type": "code",
   "execution_count": 13,
   "metadata": {},
   "outputs": [
    {
     "name": "stdout",
     "output_type": "stream",
     "text": [
      "{'Calculus II': {'A1': 4, 'A2': 8, 'A3': 7}, 'Programming Languages': {'A1': 9, 'A2': 8, 'A3': 0}}\n"
     ]
    }
   ],
   "source": [
    "a, b = (4,8,7),(9,8,0) # very complicated solution\n",
    "\n",
    "def grades(a,b):\n",
    "    nit = [a,b]\n",
    "    c = ['Calculus II', 'Programming Languages']\n",
    "    d = ['A1', 'A2', 'A3']\n",
    "    #init = { c[x]: {str(d[x]): str(a[x])} for x  in range(len(d))}\n",
    "  #  init = {c[x]:{k: v for k, v in zip(d, a)}, c[x]:{k: v for k, v in zip(d, b)}}\n",
    "    init_a = {k: v for k, v in zip(d, a)}\n",
    "    init_b = {k: v for k, v in zip(d, b)}\n",
    "    init_c = [init_a, init_b]\n",
    "    \n",
    "    #init = {key: dict(A1=init_a.get(key), A2=init_b.get(key), A3= init)\n",
    "    #     for key in c}\n",
    "    \n",
    "   # init = {c:dict(zip('A1','A2'),b) for a, b in nit}\n",
    "\n",
    "    init_d = {i:dic for i, dic in enumerate(init_c)}\n",
    "    init = dict(zip(c,list(init_d.values()))) \n",
    "        \n",
    "    return init\n",
    "    \n",
    "x = grades(a,b)\n",
    "print(x)"
   ]
  },
  {
   "cell_type": "markdown",
   "metadata": {},
   "source": [
    "#### 2) Create the function **sorts()**, which takes as a single argument a dictionary **d**, and sorts that dictionary based on its values, returning the ordered dictionary. Test cases will not have equal values. See examples:\n",
    "\n",
    ">```python\n",
    ">>>> sorts({1: 2, 3: 4, 4: 3, 2: 1, 0: 0})\n",
    ">{0: 0, 2: 1, 1: 2, 4: 3, 3: 4}\n",
    ">\n",
    ">>>> sorts({\"fish\":1, \"chicken\":10, \"beef\":5, \"pork\":8})\n",
    ">{\"fish\":1, \"cow\":5, \"pork\":8, \"chicken\":10}\n",
    "```"
   ]
  },
  {
   "cell_type": "code",
   "execution_count": 16,
   "metadata": {},
   "outputs": [
    {
     "name": "stdout",
     "output_type": "stream",
     "text": [
      "{'fish': 1, 'beef': 5, 'pork': 8, 'chicken': 10}\n"
     ]
    }
   ],
   "source": [
    "d = {1: 2, 3: 4, 4: 3, 2: 1, 0: 0}\n",
    "d = {\"fish\":1, \"chicken\":10, \"beef\":5, \"pork\":8}\n",
    "\n",
    "\n",
    "def sort(d):\n",
    "    d_sorted = {k: v for k, v in sorted(d.items(), key=lambda x: x[1])}\n",
    "    print(d_sorted)\n",
    "sort(d)"
   ]
  },
  {
   "cell_type": "markdown",
   "metadata": {},
   "source": [
    "#### 3) Create the function **concatenate()** so that it receives as arguments an indefinite number of dictionaries. Hence, concatenate them in the given order, generating a single dictionary that must be returned as a function. Test cases will not have keys in common. See the examples:\n",
    "\n",
    ">```python\n",
    ">>>> concatenate({1:'a',3:'c'},{2:'b',4:'d'},{5:'e',6:'f'})\n",
    ">{1:'a',3:'c',2:'b',4:'d',5:'e',6:'f'}\n",
    ">\n",
    ">>>> concatenate({'a':1,'b':2,'e':5},{'d':4,'c':3,'f':6})\n",
    ">{'a':1,'b':2,'e':5,'d':4,'c':3,'f':6}\n",
    "```"
   ]
  },
  {
   "cell_type": "code",
   "execution_count": 17,
   "metadata": {},
   "outputs": [
    {
     "name": "stdout",
     "output_type": "stream",
     "text": [
      "{1: 'a', 3: 'c', 2: 'b', 4: 'd', 5: 'e', 6: 'f'}\n",
      "{'a': 1, 'b': 2, 'e': 5, 'd': 4, 'c': 3, 'f': 6}\n"
     ]
    }
   ],
   "source": [
    "a, b, c, = {1:'a',3:'c'},{2:'b',4:'d'},{5:'e',6:'f'}\n",
    "t, f = {'a':1,'b':2,'e':5},{'d':4,'c':3,'f':6}\n",
    "\n",
    "\n",
    "def concadenate(*args):\n",
    "    init = {}\n",
    "    for i in [*args]:\n",
    "        init.update(i)\n",
    "    return init\n",
    "    \n",
    "x = concadenate(a,b,c)\n",
    "print(x)\n",
    "\n",
    "y = concadenate(t,f)\n",
    "print(y)"
   ]
  },
  {
   "cell_type": "markdown",
   "metadata": {},
   "source": [
    "#### 4) Create a class called **Triangle**, whose constructor receives the measurements from its three sides (in any order). Implement a method called `type`, which returns:\n",
    "- 0 if the measurements do not form a triangle\n",
    "- 1 if the triangle is equilateral\n",
    "- 2 if the triangle is isosceles\n",
    "- 3 if the triangle is scalene\n",
    "\n",
    "See the example:\n",
    "\n",
    ">```python\n",
    ">>>> tri = Triangle(5,5,5) #Equilateral\n",
    ">>>> tri.type() \n",
    ">1\n",
    "```"
   ]
  },
  {
   "cell_type": "code",
   "execution_count": 19,
   "metadata": {},
   "outputs": [
    {
     "name": "stdout",
     "output_type": "stream",
     "text": [
      "running __init__\n",
      "\n",
      "1\n"
     ]
    }
   ],
   "source": [
    "class Triangle:\n",
    "    def __init__(self, side1, side2, side3):\n",
    "        self.side1 = side1\n",
    "        self.side2 = side2\n",
    "        self.side3 = side3\n",
    "        print('running __init__\\n')\n",
    "        self.type_of_triangle()\n",
    "        \n",
    "    def __repr__(self):\n",
    "        return f\"I am a Triangle with sides {self.side1}, {self.side2} and {self.side3}\"\n",
    "        \n",
    "    #def __repr__(self):\n",
    "    #    return \"42\"\n",
    "        \n",
    "    def type_of_triangle(self):\n",
    "        \n",
    "        if self.side1 == self.side2 and self.side1 == self.side3:\n",
    "            print('1')## equilaterian\n",
    "            self.mytype = 'equilateral'\n",
    "        elif self.side1 == self.side2 or \\\n",
    "             self.side1 == self.side3 or \\\n",
    "             self.side2 == self.side3:\n",
    "            print('2') #isosceles\n",
    "            self.mytype = 'isosceles'\n",
    "        elif self.side1**2 + self.side2**2 != self.side3**2:\n",
    "            print('0')\n",
    "            self.mytype = 'no triangle'\n",
    "        else:\n",
    "            print('3')\n",
    "            self.mytype = 'scalene'\n",
    "tri= Triangle(5,5,5)"
   ]
  },
  {
   "cell_type": "markdown",
   "metadata": {},
   "source": [
    "#### 5) Create the `Point` class representing a point object in the Cartesian plane, with methods `show()`, `move()` and `dist()`. The first must return a tuple with the coordinates of the point. The second must take as arguments the displacements in each of the axes and update the position of the object. The latter, on the other hand, must take another point as an argument and return the Euclidean distance between the two points. \n",
    "\n",
    "#### Obs: The unitary tests for `dist()` will accept a margin of error of 0.1. Do not change the existing lines in this question and do not create or remove functions or classes. With the class properly implemented, it should be possible to execute the following series of commands:\n",
    "\n",
    ">```python\n",
    ">>>> p1 = Point(2, 3)\n",
    ">>>> p2 = Point(3, 3)\n",
    ">>>> p1.show()\n",
    ">(2, 3)\n",
    ">>>> p2.show()\n",
    ">(3, 3)\n",
    ">>>> p1.move(10, -10)\n",
    ">>>> p1.show()\n",
    ">(12, -7)\n",
    ">>>> p2.show()\n",
    ">(3, 3)\n",
    ">>>> p1.dist(p2)\n",
    ">13.45362404707371\n",
    "```"
   ]
  },
  {
   "cell_type": "code",
   "execution_count": 79,
   "metadata": {},
   "outputs": [
    {
     "ename": "TypeError",
     "evalue": "Point() takes no arguments",
     "output_type": "error",
     "traceback": [
      "\u001b[1;31m---------------------------------------------------------------------------\u001b[0m",
      "\u001b[1;31mTypeError\u001b[0m                                 Traceback (most recent call last)",
      "\u001b[1;32m<ipython-input-79-bb4146a6b2b5>\u001b[0m in \u001b[0;36m<module>\u001b[1;34m\u001b[0m\n\u001b[0;32m     16\u001b[0m \u001b[1;33m\u001b[0m\u001b[0m\n\u001b[0;32m     17\u001b[0m \u001b[1;33m\u001b[0m\u001b[0m\n\u001b[1;32m---> 18\u001b[1;33m \u001b[0mp1\u001b[0m \u001b[1;33m=\u001b[0m \u001b[0mPoint\u001b[0m\u001b[1;33m(\u001b[0m\u001b[1;36m2\u001b[0m\u001b[1;33m,\u001b[0m \u001b[1;36m3\u001b[0m\u001b[1;33m)\u001b[0m\u001b[1;33m\u001b[0m\u001b[0m\n\u001b[0m\u001b[0;32m     19\u001b[0m \u001b[0mp2\u001b[0m \u001b[1;33m=\u001b[0m \u001b[0mPoint\u001b[0m\u001b[1;33m(\u001b[0m\u001b[1;36m3\u001b[0m\u001b[1;33m,\u001b[0m \u001b[1;36m3\u001b[0m\u001b[1;33m)\u001b[0m\u001b[1;33m\u001b[0m\u001b[0m\n\u001b[0;32m     20\u001b[0m \u001b[1;33m\u001b[0m\u001b[0m\n",
      "\u001b[1;31mTypeError\u001b[0m: Point() takes no arguments"
     ]
    }
   ],
   "source": [
    "\n",
    "\n",
    "class Point:\n",
    "    #def __init__(self, x, y):\n",
    "    def show(self, x, y):\n",
    "        self.x = x\n",
    "        self.y = y \n",
    "        return x, y\n",
    "        \n",
    "        \n",
    "    def move(self, dx, dy):\n",
    "        self.x += dx\n",
    "        self.y += dy  \n",
    "        return dx, dy\n",
    "       \n",
    "    def dist(self,x):\n",
    "        return ((self.x ** 2) + (self.y ** 2)) ** 0.5\n",
    "     \n",
    "    \n",
    "p1 = Point(2, 3)\n",
    "p2 = Point(3, 3)\n",
    "   \n",
    "dir(p1)\n",
    "#p1.show()\n",
    "#p2.show()\n",
    "\n",
    "#p1.move(10, -10)\n",
    "#p1.show()\n",
    "\n",
    "#p2.show()\n",
    "#p1.dist(p2)    "
   ]
  },
  {
   "cell_type": "markdown",
   "metadata": {},
   "source": [
    "#### 6) Create two classes `employee` and `manager` so that manager is a subclass of employee. The employee attributes are name, ssid, salary and department. In addition to these, the manager class must also include the password and the number of employees he/she manages. Make sure your constructors are consistent. In addition, the employee class must have the method `bonus()`, which does not receive parameters and increases the employee's salary by 10%. The manager class must have the methods `authenticate_password(password)`, which returns a Boolean resulting from the validation of the password against the entry, and the method `bonus()`, which increases your salary by 15%. Do not change the existing lines in this question and do not create or remove functions or classes.\n",
    "\n",
    "```python\n",
    ">>> f1=exployee(\"John\",12345678900,2500,\"TI\")\n",
    ">>> f2=employee(\"Paul\",12345678901,1800,\"TI\")\n",
    ">>> f3=gerente(\"Marta\",23456789012,6000,\"TI\",101101,2)\n",
    ">>> f1.name()\n",
    "John\n",
    ">>> f2.ssid()\n",
    "12345678901\n",
    ">>> f3.departament()\n",
    "IT\n",
    ">>> f2.bonus()\n",
    ">>> f2.salary()\n",
    "1980.00\n",
    ">>> f3.bonus()\n",
    "6900.00\n",
    ">>> f3.authenticate_password(101101)\n",
    "True\n",
    ">>> f3.authenticate_password(123456)\n",
    "False\n",
    "```"
   ]
  },
  {
   "cell_type": "code",
   "execution_count": 66,
   "metadata": {},
   "outputs": [
    {
     "name": "stdout",
     "output_type": "stream",
     "text": [
      "John\n",
      "Paul\n"
     ]
    },
    {
     "data": {
      "text/plain": [
       "['__class__',\n",
       " '__delattr__',\n",
       " '__dict__',\n",
       " '__dir__',\n",
       " '__doc__',\n",
       " '__eq__',\n",
       " '__format__',\n",
       " '__ge__',\n",
       " '__getattribute__',\n",
       " '__gt__',\n",
       " '__hash__',\n",
       " '__init__',\n",
       " '__init_subclass__',\n",
       " '__le__',\n",
       " '__lt__',\n",
       " '__module__',\n",
       " '__ne__',\n",
       " '__new__',\n",
       " '__reduce__',\n",
       " '__reduce_ex__',\n",
       " '__repr__',\n",
       " '__setattr__',\n",
       " '__sizeof__',\n",
       " '__str__',\n",
       " '__subclasshook__',\n",
       " '__weakref__',\n",
       " 'bonus',\n",
       " 'department',\n",
       " 'name',\n",
       " 'salary',\n",
       " 'ssid']"
      ]
     },
     "execution_count": 66,
     "metadata": {},
     "output_type": "execute_result"
    }
   ],
   "source": [
    "class employee:\n",
    "    def __init__(self, name, ssid, salary, department):\n",
    "        self.name= name\n",
    "        self.ssid= ssid\n",
    "        self.salary = salary\n",
    "        self.department = department\n",
    "        print(name)\n",
    "    #    self.bonus()\n",
    "    \n",
    "    def bonus(self, salary):\n",
    "        self.salary = salary\n",
    "        self.newsalary = salary*1,1\n",
    "\n",
    "class manager(employee):\n",
    "    def __init__(self, name, ssid, salary, department, password, numberOfEmployees):\n",
    "        self.name= name\n",
    "        self.ssid= ssid\n",
    "        self.salary = salary\n",
    "        self.department = department\n",
    "    #    self.bonus()\n",
    "    #    self.password = password\n",
    "        self.numberOfEmployees = numberOfEmployees\n",
    "     #   self.authenticate_password = \n",
    "    def bonus():\n",
    "        self.newsalary = salary*1,15\n",
    "    \n",
    "   # def authenticate_password(password1):\n",
    "   #     x = input(\"Enter your password: \")\n",
    "    #    if password1 != password:\n",
    "   #         False\n",
    "    #    else:\n",
    "     #       True\n",
    "            \n",
    "            \n",
    "            \n",
    "f1=employee(\"John\",12345678900,2500,\"TI\")\n",
    "f2=employee(\"Paul\",12345678901,1800,\"TI\")\n",
    "f3=manager(\"Marta\",23456789012,6000,\"TI\",101101,2)\n",
    "\n",
    "dir(f1)\n",
    "\n",
    "\n",
    "#f1.name\n",
    "\n",
    "#f2.ssid()\n",
    "#f3.departament()\n",
    "#f2.bonus()\n",
    "#f2.salary()\n",
    "#f3.bonus()\n",
    "#f3.authenticate_password(101101)\n",
    "#f3.authenticate_password(123456)\n",
    " "
   ]
  },
  {
   "cell_type": "markdown",
   "metadata": {},
   "source": [
    "## Challenge\n",
    "\n",
    "#### 7) There is a file called \"alice.txt\", which is the first chapter of the book Alice in Wonderland. The text has already been properly cleaned, punctuation was removed, as well as special characters and unnecessary spacing. There is a semi-ready function that reads the file and loads the text into the string-type variable called \"alice\"; you have to modify  this function to return a dictionary whose keys are the unique words in the text, and the values are the number of times each word is repeated in the chapter (frequency distribution) - do not use the method collections.Counter.\n",
    "\n",
    "#### Extra: Try to discover the top 10 most used words. See the image below to get an idea of the answer (The bigger the word, the more often it is repeated).\n",
    "\n",
    "![](../Data/Figs/alice.png)\n",
    "\n",
    "Book: http://www.gutenberg.org/files/11/11-0.txt\n",
    "\n",
    "Image: https://pypi.org/project/wordcloud/"
   ]
  },
  {
   "cell_type": "code",
   "execution_count": 39,
   "metadata": {},
   "outputs": [],
   "source": [
    "def read_text():\n",
    "    with open('../Data/TXT/alice.txt','r') as f:\n",
    "        alice = f.read()\n",
    "        "
   ]
  },
  {
   "cell_type": "code",
   "execution_count": null,
   "metadata": {},
   "outputs": [],
   "source": []
  },
  {
   "cell_type": "markdown",
   "metadata": {},
   "source": [
    "#### 3) The class **Ball** represents a sphere filled with water (weighing 1000g per cubic meter) with a radius **r** and depending on the surface painting, it can have different weights: blue - weight 1g per square meter: yellow - 2g per square meter or red - 3g per square meter. The class parameter is a tuple **(r, color)**, an integer and a string, respectively. The **weight()** method of the class should return the total weight in kg of the ball (the weight of the water with the external weight of the surface). See example:\n",
    "\n",
    ">```python\n",
    ">>>> Ball((2, \"red\")).weight()\n",
    "> 33.66111808566343\n",
    ">\n",
    ">>>> Ball((3, \"blue\")).weight()\n",
    "> 113.21043286476177\n",
    "\n",
    "Hints: \n",
    "- Use $\\pi$ = 3.14159\n",
    "- Sphere volume: $\\frac43 \\pi r^3$\n",
    "- Surface area: $4\\pi r^2$"
   ]
  },
  {
   "cell_type": "code",
   "execution_count": null,
   "metadata": {},
   "outputs": [],
   "source": []
  }
 ],
 "metadata": {
  "kernelspec": {
   "display_name": "Python 3",
   "language": "python",
   "name": "python3"
  },
  "language_info": {
   "codemirror_mode": {
    "name": "ipython",
    "version": 3
   },
   "file_extension": ".py",
   "mimetype": "text/x-python",
   "name": "python",
   "nbconvert_exporter": "python",
   "pygments_lexer": "ipython3",
   "version": "3.7.0"
  }
 },
 "nbformat": 4,
 "nbformat_minor": 4
}
