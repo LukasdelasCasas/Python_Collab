{
 "cells": [
  {
   "cell_type": "markdown",
   "metadata": {},
   "source": [
    "## Fourth Assignment"
   ]
  },
  {
   "cell_type": "markdown",
   "metadata": {},
   "source": [
    "#### 1) Suppose that in this term you have only two courses: Calculus II and Programming Languages. Create a function **grades()** that receives two tuples (or lists) of three elements representing the grades of the assigments A1, A2 and A3 in that order. The first tuple (or list) refers to the grades of Calculus II and the second to the grades of Programming Languages. Return a dictionary whose keys are the names of the course and the values are another dict with keys 'A1', 'A2' and 'A3' and values being the corresponding grades. See example below.\n",
    "\n",
    ">```python\n",
    ">>>> grades((4,8,7),(9,8,0))\n",
    ">{'Calculus II': {'A1': 4, 'A2': 8, 'A3': 7}, 'Programming Languages': {'A1': 9, 'A2': 8, 'A3': 0}}\n",
    "```"
   ]
  },
  {
   "cell_type": "code",
   "execution_count": 13,
   "metadata": {},
   "outputs": [
    {
     "name": "stdout",
     "output_type": "stream",
     "text": [
      "{'Calculus II': {'A1': 4, 'A2': 8, 'A3': 7}, 'Programming Languages': {'A1': 9, 'A2': 8, 'A3': 0}}\n"
     ]
    }
   ],
   "source": [
    "a, b = (4,8,7),(9,8,0) # very complicated solution\n",
    "\n",
    "def grades(a,b):\n",
    "    nit = [a,b]\n",
    "    c = ['Calculus II', 'Programming Languages']\n",
    "    d = ['A1', 'A2', 'A3']\n",
    "    #init = { c[x]: {str(d[x]): str(a[x])} for x  in range(len(d))}\n",
    "  #  init = {c[x]:{k: v for k, v in zip(d, a)}, c[x]:{k: v for k, v in zip(d, b)}}\n",
    "    init_a = {k: v for k, v in zip(d, a)}\n",
    "    init_b = {k: v for k, v in zip(d, b)}\n",
    "    init_c = [init_a, init_b]\n",
    "    \n",
    "    #init = {key: dict(A1=init_a.get(key), A2=init_b.get(key), A3= init)\n",
    "    #     for key in c}\n",
    "    \n",
    "   # init = {c:dict(zip('A1','A2'),b) for a, b in nit}\n",
    "\n",
    "    init_d = {i:dic for i, dic in enumerate(init_c)}\n",
    "    init = dict(zip(c,list(init_d.values()))) \n",
    "        \n",
    "    return init\n",
    "    \n",
    "x = grades(a,b)\n",
    "print(x)"
   ]
  },
  {
   "cell_type": "markdown",
   "metadata": {},
   "source": [
    "#### 2) Create the function **sorts()**, which takes as a single argument a dictionary **d**, and sorts that dictionary based on its values, returning the ordered dictionary. Test cases will not have equal values. See examples:\n",
    "\n",
    ">```python\n",
    ">>>> sorts({1: 2, 3: 4, 4: 3, 2: 1, 0: 0})\n",
    ">{0: 0, 2: 1, 1: 2, 4: 3, 3: 4}\n",
    ">\n",
    ">>>> sorts({\"fish\":1, \"chicken\":10, \"beef\":5, \"pork\":8})\n",
    ">{\"fish\":1, \"cow\":5, \"pork\":8, \"chicken\":10}\n",
    "```"
   ]
  },
  {
   "cell_type": "code",
   "execution_count": 16,
   "metadata": {},
   "outputs": [
    {
     "name": "stdout",
     "output_type": "stream",
     "text": [
      "{'fish': 1, 'beef': 5, 'pork': 8, 'chicken': 10}\n"
     ]
    }
   ],
   "source": [
    "d = {1: 2, 3: 4, 4: 3, 2: 1, 0: 0}\n",
    "d = {\"fish\":1, \"chicken\":10, \"beef\":5, \"pork\":8}\n",
    "\n",
    "\n",
    "def sort(d):\n",
    "    d_sorted = {k: v for k, v in sorted(d.items(), key=lambda x: x[1])}\n",
    "    print(d_sorted)\n",
    "sort(d)"
   ]
  },
  {
   "cell_type": "markdown",
   "metadata": {},
   "source": [
    "#### 3) Create the function **concatenate()** so that it receives as arguments an indefinite number of dictionaries. Hence, concatenate them in the given order, generating a single dictionary that must be returned as a function. Test cases will not have keys in common. See the examples:\n",
    "\n",
    ">```python\n",
    ">>>> concatenate({1:'a',3:'c'},{2:'b',4:'d'},{5:'e',6:'f'})\n",
    ">{1:'a',3:'c',2:'b',4:'d',5:'e',6:'f'}\n",
    ">\n",
    ">>>> concatenate({'a':1,'b':2,'e':5},{'d':4,'c':3,'f':6})\n",
    ">{'a':1,'b':2,'e':5,'d':4,'c':3,'f':6}\n",
    "```"
   ]
  },
  {
   "cell_type": "code",
   "execution_count": 17,
   "metadata": {},
   "outputs": [
    {
     "name": "stdout",
     "output_type": "stream",
     "text": [
      "{1: 'a', 3: 'c', 2: 'b', 4: 'd', 5: 'e', 6: 'f'}\n",
      "{'a': 1, 'b': 2, 'e': 5, 'd': 4, 'c': 3, 'f': 6}\n"
     ]
    }
   ],
   "source": [
    "a, b, c, = {1:'a',3:'c'},{2:'b',4:'d'},{5:'e',6:'f'}\n",
    "t, f = {'a':1,'b':2,'e':5},{'d':4,'c':3,'f':6}\n",
    "\n",
    "\n",
    "def concadenate(*args):\n",
    "    init = {}\n",
    "    for i in [*args]:\n",
    "        init.update(i)\n",
    "    return init\n",
    "    \n",
    "x = concadenate(a,b,c)\n",
    "print(x)\n",
    "\n",
    "y = concadenate(t,f)\n",
    "print(y)"
   ]
  },
  {
   "cell_type": "markdown",
   "metadata": {},
   "source": [
    "#### 4) Create a class called **Triangle**, whose constructor receives the measurements from its three sides (in any order). Implement a method called `type`, which returns:\n",
    "- 0 if the measurements do not form a triangle\n",
    "- 1 if the triangle is equilateral\n",
    "- 2 if the triangle is isosceles\n",
    "- 3 if the triangle is scalene\n",
    "\n",
    "See the example:\n",
    "\n",
    ">```python\n",
    ">>>> tri = Triangle(5,5,5) #Equilateral\n",
    ">>>> tri.type() \n",
    ">1\n",
    "```"
   ]
  },
  {
   "cell_type": "code",
   "execution_count": 19,
   "metadata": {},
   "outputs": [
    {
     "name": "stdout",
     "output_type": "stream",
     "text": [
      "running __init__\n",
      "\n",
      "1\n"
     ]
    }
   ],
   "source": [
    "class Triangle:\n",
    "    def __init__(self, side1, side2, side3):\n",
    "        self.side1 = side1\n",
    "        self.side2 = side2\n",
    "        self.side3 = side3\n",
    "        print('running __init__\\n')\n",
    "        self.type_of_triangle()\n",
    "        \n",
    "    def __repr__(self):\n",
    "        return f\"I am a Triangle with sides {self.side1}, {self.side2} and {self.side3}\"\n",
    "        \n",
    "    #def __repr__(self):\n",
    "    #    return \"42\"\n",
    "        \n",
    "    def type_of_triangle(self):\n",
    "        \n",
    "        if self.side1 == self.side2 and self.side1 == self.side3:\n",
    "            print('1')## equilaterian\n",
    "            self.mytype = 'equilateral'\n",
    "        elif self.side1 == self.side2 or \\\n",
    "             self.side1 == self.side3 or \\\n",
    "             self.side2 == self.side3:\n",
    "            print('2') #isosceles\n",
    "            self.mytype = 'isosceles'\n",
    "        elif self.side1**2 + self.side2**2 != self.side3**2:\n",
    "            print('0')\n",
    "            self.mytype = 'no triangle'\n",
    "        else:\n",
    "            print('3')\n",
    "            self.mytype = 'scalene'\n",
    "tri= Triangle(5,5,5)"
   ]
  },
  {
   "cell_type": "markdown",
   "metadata": {},
   "source": [
    "#### 5) Create the `Point` class representing a point object in the Cartesian plane, with methods `show()`, `move()` and `dist()`. The first must return a tuple with the coordinates of the point. The second must take as arguments the displacements in each of the axes and update the position of the object. The latter, on the other hand, must take another point as an argument and return the Euclidean distance between the two points. \n",
    "\n",
    "#### Obs: The unitary tests for `dist()` will accept a margin of error of 0.1. Do not change the existing lines in this question and do not create or remove functions or classes. With the class properly implemented, it should be possible to execute the following series of commands:\n",
    "\n",
    ">```python\n",
    ">>>> p1 = Point(2, 3)\n",
    ">>>> p2 = Point(3, 3)\n",
    ">>>> p1.show()\n",
    ">(2, 3)\n",
    ">>>> p2.show()\n",
    ">(3, 3)\n",
    ">>>> p1.move(10, -10)\n",
    ">>>> p1.show()\n",
    ">(12, -7)\n",
    ">>>> p2.show()\n",
    ">(3, 3)\n",
    ">>>> p1.dist(p2)\n",
    ">13.45362404707371\n",
    "```"
   ]
  },
  {
   "cell_type": "code",
   "execution_count": 9,
   "metadata": {},
   "outputs": [
    {
     "name": "stdout",
     "output_type": "stream",
     "text": [
      "(2,3)\n",
      "(3,3)\n",
      "(12,-7)\n",
      "(3,3)\n"
     ]
    },
    {
     "data": {
      "text/plain": [
       "13.892443989449804"
      ]
     },
     "execution_count": 9,
     "metadata": {},
     "output_type": "execute_result"
    }
   ],
   "source": [
    "class Point: # now it works, don´t know why...\n",
    "    def __init__(self, x, y):\n",
    "        self.x = x\n",
    "        self.y = y\n",
    "    \n",
    "    def show(p):\n",
    "        print(\"({0},{1})\".format(p.x, p.y))\n",
    "        \n",
    "    def move(self, dx, dy):\n",
    "        self.x += dx\n",
    "        self.y += dy  \n",
    "        \n",
    "       \n",
    "    def dist(self,x):\n",
    "        return ((self.x ** 2) + (self.y ** 2)) ** 0.5\n",
    "     \n",
    "    \n",
    "\n",
    "\n",
    "\n",
    "p1 = Point(2, 3)\n",
    "p2 = Point(3, 3)\n",
    "p1.show()\n",
    "\n",
    "p2.show()\n",
    "\n",
    "p1.move(10, -10)\n",
    "p1.show()\n",
    "\n",
    "p2.show()\n",
    "\n",
    "p1.dist(p2)"
   ]
  },
  {
   "cell_type": "markdown",
   "metadata": {},
   "source": [
    "#### 6) Create two classes `employee` and `manager` so that manager is a subclass of employee. The employee attributes are name, ssid, salary and department. In addition to these, the manager class must also include the password and the number of employees he/she manages. Make sure your constructors are consistent. In addition, the employee class must have the method `bonus()`, which does not receive parameters and increases the employee's salary by 10%. The manager class must have the methods `authenticate_password(password)`, which returns a Boolean resulting from the validation of the password against the entry, and the method `bonus()`, which increases your salary by 15%. Do not change the existing lines in this question and do not create or remove functions or classes.\n",
    "\n",
    "```python\n",
    ">>> f1=exployee(\"John\",12345678900,2500,\"TI\")\n",
    ">>> f2=employee(\"Paul\",12345678901,1800,\"TI\")\n",
    ">>> f3=gerente(\"Marta\",23456789012,6000,\"TI\",101101,2)\n",
    ">>> f1.name()\n",
    "John\n",
    ">>> f2.ssid()\n",
    "12345678901\n",
    ">>> f3.departament()\n",
    "IT\n",
    ">>> f2.bonus()\n",
    ">>> f2.salary()\n",
    "1980.00\n",
    ">>> f3.bonus()\n",
    "6900.00\n",
    ">>> f3.authenticate_password(101101)\n",
    "True\n",
    ">>> f3.authenticate_password(123456)\n",
    "False\n",
    "```"
   ]
  },
  {
   "cell_type": "code",
   "execution_count": 66,
   "metadata": {},
   "outputs": [
    {
     "name": "stdout",
     "output_type": "stream",
     "text": [
      "John\n",
      "Paul\n"
     ]
    },
    {
     "data": {
      "text/plain": [
       "['__class__',\n",
       " '__delattr__',\n",
       " '__dict__',\n",
       " '__dir__',\n",
       " '__doc__',\n",
       " '__eq__',\n",
       " '__format__',\n",
       " '__ge__',\n",
       " '__getattribute__',\n",
       " '__gt__',\n",
       " '__hash__',\n",
       " '__init__',\n",
       " '__init_subclass__',\n",
       " '__le__',\n",
       " '__lt__',\n",
       " '__module__',\n",
       " '__ne__',\n",
       " '__new__',\n",
       " '__reduce__',\n",
       " '__reduce_ex__',\n",
       " '__repr__',\n",
       " '__setattr__',\n",
       " '__sizeof__',\n",
       " '__str__',\n",
       " '__subclasshook__',\n",
       " '__weakref__',\n",
       " 'bonus',\n",
       " 'department',\n",
       " 'name',\n",
       " 'salary',\n",
       " 'ssid']"
      ]
     },
     "execution_count": 66,
     "metadata": {},
     "output_type": "execute_result"
    }
   ],
   "source": [
    "class employee:\n",
    "    def __init__(self, name, ssid, salary, department):\n",
    "        self.name= name\n",
    "        self.ssid= ssid\n",
    "        self.salary = salary\n",
    "        self.department = department\n",
    "        print(name)\n",
    "    #    self.bonus()\n",
    "    \n",
    "    def bonus(self, salary):\n",
    "        self.salary = salary\n",
    "        self.newsalary = salary*1,1\n",
    "\n",
    "class manager(employee):\n",
    "    def __init__(self, name, ssid, salary, department, password, numberOfEmployees):\n",
    "        self.name= name\n",
    "        self.ssid= ssid\n",
    "        self.salary = salary\n",
    "        self.department = department\n",
    "    #    self.bonus()\n",
    "    #    self.password = password\n",
    "        self.numberOfEmployees = numberOfEmployees\n",
    "     #   self.authenticate_password = \n",
    "    def bonus():\n",
    "        self.newsalary = salary*1,15\n",
    "    \n",
    "   # def authenticate_password(password1):\n",
    "   #     x = input(\"Enter your password: \")\n",
    "    #    if password1 != password:\n",
    "   #         False\n",
    "    #    else:\n",
    "     #       True\n",
    "            \n",
    "            \n",
    "            \n",
    "f1=employee(\"John\",12345678900,2500,\"TI\")\n",
    "f2=employee(\"Paul\",12345678901,1800,\"TI\")\n",
    "f3=manager(\"Marta\",23456789012,6000,\"TI\",101101,2)\n",
    "\n",
    "dir(f1)\n",
    "\n",
    "\n",
    "#f1.name\n",
    "\n",
    "#f2.ssid()\n",
    "#f3.departament()\n",
    "#f2.bonus()\n",
    "#f2.salary()\n",
    "#f3.bonus()\n",
    "#f3.authenticate_password(101101)\n",
    "#f3.authenticate_password(123456)\n",
    " "
   ]
  },
  {
   "cell_type": "markdown",
   "metadata": {},
   "source": [
    "## Challenge\n",
    "\n",
    "#### 7) There is a file called \"alice.txt\", which is the first chapter of the book Alice in Wonderland. The text has already been properly cleaned, punctuation was removed, as well as special characters and unnecessary spacing. There is a semi-ready function that reads the file and loads the text into the string-type variable called \"alice\"; you have to modify  this function to return a dictionary whose keys are the unique words in the text, and the values are the number of times each word is repeated in the chapter (frequency distribution) - do not use the method collections.Counter.\n",
    "\n",
    "#### Extra: Try to discover the top 10 most used words. See the image below to get an idea of the answer (The bigger the word, the more often it is repeated).\n",
    "\n",
    "![](../Data/Figs/alice.png)\n",
    "\n",
    "Book: http://www.gutenberg.org/files/11/11-0.txt\n",
    "\n",
    "Image: https://pypi.org/project/wordcloud/"
   ]
  },
  {
   "cell_type": "code",
   "execution_count": 118,
   "metadata": {},
   "outputs": [
    {
     "name": "stdout",
     "output_type": "stream",
     "text": [
      "{'the': 92, 'she': 80, 'to': 75, 'it': 67, 'and': 65, 'was': 53, 'a': 52, 'of': 43, 'i': 35, 'alice': 28, 'that': 27, 'her': 26, 'in': 26, 'down': 23, 'very': 23, 'but': 22, 'for': 21, 'had': 20, 'you': 19, 'not': 16, 'on': 15, 'little': 15, 'so': 14, 'as': 14, 'be': 13, 'out': 13, 'way': 13, 'this': 13, 'herself': 13, 'or': 12, 'up': 12, 'there': 12, 'me': 12, 'no': 11, 'with': 11, 'think': 11, 'at': 11, 'like': 11, 'what': 10, 'when': 10, 'all': 10, 'see': 10, 'if': 10, 'rabbit': 9, 'do': 9, 'into': 9, 'time': 9, 'how': 9, 'one': 9, 'll': 9, 'which': 9, 'thought': 8, 'could': 8, 'about': 8, 'were': 8, 'said': 8, 's': 8, 'get': 7, 'nothing': 7, 'well': 7, 'would': 7, 'went': 7, 'found': 7, 'eat': 7, 'door': 7, 'by': 6, 'is': 6, 'much': 6, 'say': 6, 'either': 6, 'wonder': 6, 'going': 6, 'they': 6, 'off': 6, 'through': 6, 'key': 6, 'use': 5, 'suddenly': 5, 'shall': 5, 'then': 5, 'never': 5, 'before': 5, 'after': 5, 'tried': 5, 'too': 5, 't': 5, 'things': 5, 'dinah': 5, 'my': 5, 'table': 5, 'hole': 4, 'once': 4, 'book': 4, 'oh': 4, 'quite': 4, 'looked': 4, 'moment': 4, 'again': 4, 'fell': 4, 'first': 4, 'here': 4, 'upon': 4, 'fall': 4, 'right': 4, 'got': 4, 'people': 4, 'soon': 4, 'might': 4, 'cats': 4, 'bats': 4, 'now': 4, 'ever': 4, 'hall': 4, 'any': 4, 'garden': 4, 'poor': 4, 'bottle': 4, 'marked': 4, 'having': 3, 'pictures': 3, 'hot': 3, 'getting': 3, 'did': 3, 'dear': 3, 'over': 3, 'seemed': 3, 'seen': 3, 'just': 3, 'large': 3, 'under': 3, 'another': 3, 'look': 3, 'dark': 3, 'from': 3, 'such': 3, 'even': 3, 'come': 3, 'sort': 3, 'good': 3, 'nice': 3, 'words': 3, 'began': 3, 'rather': 3, 'them': 3, 'know': 3, 'remember': 3, 'hand': 3, 'came': 3, 'long': 3, 'passage': 3, 'round': 3, 'trying': 3, 'glass': 3, 'golden': 3, 'small': 3, 'however': 3, 'head': 3, 'drink': 3, 'poison': 3, 'candle': 3, 'cake': 3, 'tired': 2, 'sister': 2, 'conversations': 2, 'without': 2, 'considering': 2, 'own': 2, 'mind': 2, 'made': 2, 'feel': 2, 'sleepy': 2, 'stupid': 2, 'whether': 2, 'white': 2, 'eyes': 2, 'ran': 2, 'close': 2, 'hear': 2, 'late': 2, 'have': 2, 'took': 2, 'watch': 2, 'waistcoat': 2, 'pocket': 2, 'feet': 2, 'across': 2, 'falling': 2, 'deep': 2, 'happen': 2, 'make': 2, 'anything': 2, 'noticed': 2, 'cupboards': 2, 'shelves': 2, 'saw': 2, 'jar': 2, 'great': 2, 'put': 2, 'why': 2, 'top': 2, 'an': 2, 'end': 2, 'many': 2, 'miles': 2, 've': 2, 'must': 2, 'somewhere': 2, 'earth': 2, 'several': 2, 'though': 2, 'still': 2, 'latitude': 2, 'longitude': 2, 'among': 2, 'their': 2, 'didn': 2, 'ask': 2, 'fancy': 2, 'air': 2, 'should': 2, 'wish': 2, 'bat': 2, 'saying': 2, 'sometimes': 2, 'felt': 2, 'begun': 2, 'thump': 2, 'bit': 2, 'turned': 2, 'corner': 2, 'ears': 2, 'behind': 2, 'low': 2, 'doors': 2, 'other': 2, 'alas': 2, 'rate': 2, 'inches': 2, 'high': 2, 'opened': 2, 'larger': 2, 'those': 2, 'go': 2, 'telescope': 2, 'only': 2, 'happened': 2, 'few': 2, 'indeed': 2, 'back': 2, 'find': 2, 'rules': 2, 'shutting': 2, 'beautifully': 2, 'forgotten': 2, 'finding': 2, 'finished': 2, 'curious': 2, 'size': 2, 'thing': 2, 'reach': 2, 'generally': 2, 'box': 2, 'two': 2, 'makes': 2, 'grow': 2, 'can': 2, 'happens': 2, 'beginning': 1, 'sitting': 1, 'bank': 1, 'twice': 1, 'peeped': 1, 'reading': 1, 'day': 1, 'pleasure': 1, 'making': 1, 'daisy': 1, 'chain': 1, 'worth': 1, 'trouble': 1, 'picking': 1, 'daisies': 1, 'pink': 1, 'remarkable': 1, 'nor': 1, 'itself': 1, 'afterwards': 1, 'occurred': 1, 'ought': 1, 'wondered': 1, 'natural': 1, 'actually': 1, 'its': 1, 'hurried': 1, 'started': 1, 'flashed': 1, 'take': 1, 'burning': 1, 'curiosity': 1, 'field': 1, 'fortunately': 1, 'pop': 1, 'hedge': 1, 'world': 1, 'straight': 1, 'tunnel': 1, 'some': 1, 'dipped': 1, 'stopping': 1, 'slowly': 1, 'plenty': 1, 'next': 1, 'coming': 1, 'sides': 1, 'filled': 1, 'maps': 1, 'hung': 1, 'pegs': 1, 'passed': 1, 'labelled': 1, 'orange': 1, 'marmalade': 1, 'disappointment': 1, 'empty': 1, 'drop': 1, 'fear': 1, 'killing': 1, 'somebody': 1, 'underneath': 1, 'managed': 1, 'past': 1, 'tumbling': 1, 'stairs': 1, 'brave': 1, 'home': 1, 'wouldn': 1, 'house': 1, 'likely': 1, 'true': 1, 'fallen': 1, 'aloud': 1, 'near': 1, 'centre': 1, 'let': 1, 'four': 1, 'thousand': 1, 'learnt': 1, 'lessons': 1, 'schoolroom': 1, 'opportunity': 1, 'showing': 1, 'knowledge': 1, 'listen': 1, 'practice': 1, 'yes': 1, 'distance': 1, 'idea': 1, 'grand': 1, 'presently': 1, 'funny': 1, 'seem': 1, 'walk': 1, 'heads': 1, 'downward': 1, 'antipathies': 1, 'glad': 1, 'listening': 1, 'sound': 1, 'word': 1, 'name': 1, 'country': 1, 'please': 1, 'ma': 1, 'am': 1, 'new': 1, 'zealand': 1, 'australia': 1, 'curtsey': 1, 'spoke': 1, 'curtseying': 1, 're': 1, 'manage': 1, 'ignorant': 1, 'girl': 1, 'asking': 1, 'perhaps': 1, 'written': 1, 'else': 1, 'talking': 1, 'miss': 1, 'night': 1, 'cat': 1, 'hope': 1, 'saucer': 1, 'milk': 1, 'tea': 1, 'are': 1, 'mice': 1, 'm': 1, 'afraid': 1, 'catch': 1, 'mouse': 1, 'dreamy': 1, 'couldn': 1, 'answer': 1, 'question': 1, 'matter': 1, 'dozing': 1, 'dream': 1, 'walking': 1, 'earnestly': 1, 'tell': 1, 'truth': 1, 'heap': 1, 'sticks': 1, 'dry': 1, 'leaves': 1, 'hurt': 1, 'jumped': 1, 'overhead': 1, 'sight': 1, 'hurrying': 1, 'lost': 1, 'away': 1, 'wind': 1, 'whiskers': 1, 'longer': 1, 'lit': 1, 'row': 1, 'lamps': 1, 'hanging': 1, 'roof': 1, 'locked': 1, 'been': 1, 'side': 1, 'every': 1, 'walked': 1, 'sadly': 1, 'middle': 1, 'wondering': 1, 'three': 1, 'legged': 1, 'solid': 1, 'except': 1, 'tiny': 1, 'belong': 1, 'locks': 1, 'open': 1, 'second': 1, 'curtain': 1, 'fifteen': 1, 'lock': 1, 'delight': 1, 'fitted': 1, 'led': 1, 'than': 1, 'rat': 1, 'knelt': 1, 'along': 1, 'loveliest': 1, 'longed': 1, 'wander': 1, 'beds': 1, 'bright': 1, 'flowers': 1, 'cool': 1, 'fountains': 1, 'doorway': 1, 'shoulders': 1, 'shut': 1, 'knew': 1, 'begin': 1, 'lately': 1, 'really': 1, 'impossible': 1, 'waiting': 1, 'half': 1, 'hoping': 1, 'telescopes': 1, 'certainly': 1, 'neck': 1, 'paper': 1, 'label': 1, 'printed': 1, 'letters': 1, 'wise': 1, 'hurry': 1, 'read': 1, 'histories': 1, 'children': 1, 'who': 1, 'burnt': 1, 'eaten': 1, 'wild': 1, 'beasts': 1, 'unpleasant': 1, 'because': 1, 'simple': 1, 'friends': 1, 'taught': 1, 'red': 1, 'poker': 1, 'will': 1, 'burn': 1, 'hold': 1, 'cut': 1, 'your': 1, 'finger': 1, 'deeply': 1, 'knife': 1, 'usually': 1, 'bleeds': 1, 'almost': 1, 'certain': 1, 'disagree': 1, 'sooner': 1, 'later': 1, 'ventured': 1, 'taste': 1, 'fact': 1, 'mixed': 1, 'flavour': 1, 'cherry': 1, 'tart': 1, 'custard': 1, 'pine': 1, 'apple': 1, 'roast': 1, 'turkey': 1, 'toffee': 1, 'buttered': 1, 'toast': 1, 'feeling': 1, 'ten': 1, 'face': 1, 'brightened': 1, 'lovely': 1, 'waited': 1, 'minutes': 1, 'shrink': 1, 'further': 1, 'nervous': 1, 'altogether': 1, 'flame': 1, 'blown': 1, 'while': 1, 'more': 1, 'decided': 1, 'possibly': 1, 'plainly': 1, 'best': 1, 'climb': 1, 'legs': 1, 'slippery': 1, 'sat': 1, 'cried': 1, 'crying': 1, 'sharply': 1, 'advise': 1, 'leave': 1, 'minute': 1, 'gave': 1, 'advice': 1, 'seldom': 1, 'followed': 1, 'scolded': 1, 'severely': 1, 'bring': 1, 'tears': 1, 'remembered': 1, 'cheated': 1, 'game': 1, 'croquet': 1, 'playing': 1, 'against': 1, 'child': 1, 'fond': 1, 'pretending': 1, 'pretend': 1, 'hardly': 1, 'enough': 1, 'left': 1, 'respectable': 1, 'person': 1, 'eye': 1, 'lying': 1, 'currants': 1, 'smaller': 1, 'creep': 1, 'don': 1, 'care': 1, 'ate': 1, 'anxiously': 1, 'holding': 1, 'growing': 1, 'surprised': 1, 'remained': 1, 'same': 1, 'sure': 1, 'eats': 1, 'expecting': 1, 'dull': 1, 'life': 1, 'common': 1, 'set': 1, 'work': 1}\n"
     ]
    }
   ],
   "source": [
    "from itertools import islice\n",
    "\n",
    "def read_text():\n",
    "    d = {}\n",
    "    with open('../Data/TXT/alice.txt','r') as f:\n",
    "        alice = f.read()\n",
    "        f.close()\n",
    "     #   print(alice)  \n",
    "        for word in alice.split():\n",
    "            \n",
    "            if word in d:\n",
    "                d[word] += 1\n",
    "            else: \n",
    "                d[word] = 1\n",
    "         \n",
    "        g = {k:v for k,v in sorted(d.items(), key = lambda x:x[1], reverse= True)}\n",
    "        return g        \n",
    "                                  \n",
    "          \n",
    "x = read_text()   \n",
    "print(x)\n",
    "\n"
   ]
  },
  {
   "cell_type": "markdown",
   "metadata": {},
   "source": [
    "#### 3) The class **Ball** represents a sphere filled with water (weighing 1000g per cubic meter) with a radius **r** and depending on the surface painting, it can have different weights: blue - weight 1g per square meter: yellow - 2g per square meter or red - 3g per square meter. The class parameter is a tuple **(r, color)**, an integer and a string, respectively. The **weight()** method of the class should return the total weight in kg of the ball (the weight of the water with the external weight of the surface). See example:\n",
    "\n",
    ">```python\n",
    ">>>> Ball((2, \"red\")).weight()\n",
    "> 33.66111808566343\n",
    ">\n",
    ">>>> Ball((3, \"blue\")).weight()\n",
    "> 113.21043286476177\n",
    "\n",
    "Hints: \n",
    "- Use $\\pi$ = 3.14159\n",
    "- Sphere volume: $\\frac43 \\pi r^3$\n",
    "- Surface area: $4\\pi r^2$"
   ]
  },
  {
   "cell_type": "code",
   "execution_count": null,
   "metadata": {},
   "outputs": [],
   "source": []
  }
 ],
 "metadata": {
  "kernelspec": {
   "display_name": "Python 3",
   "language": "python",
   "name": "python3"
  },
  "language_info": {
   "codemirror_mode": {
    "name": "ipython",
    "version": 3
   },
   "file_extension": ".py",
   "mimetype": "text/x-python",
   "name": "python",
   "nbconvert_exporter": "python",
   "pygments_lexer": "ipython3",
   "version": "3.7.0"
  }
 },
 "nbformat": 4,
 "nbformat_minor": 4
}
