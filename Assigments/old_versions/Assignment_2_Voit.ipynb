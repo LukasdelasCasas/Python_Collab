{
 "cells": [
  {
   "cell_type": "markdown",
   "metadata": {},
   "source": [
    "## Second Assignment"
   ]
  },
  {
   "cell_type": "markdown",
   "metadata": {},
   "source": [
    "#### 1) Create a function called **\"even_squared\"** that receives an integer value **N**, and returns a list containing, in ascending order, the square of each of the even values, from 1 to N, including N if applicable. "
   ]
  },
  {
   "cell_type": "code",
   "execution_count": 21,
   "metadata": {},
   "outputs": [
    {
     "name": "stdout",
     "output_type": "stream",
     "text": [
      "Give N an integer value5\n",
      "[4, 16]\n"
     ]
    }
   ],
   "source": [
    "num = int(input(\"Give N an integer value\"))\n",
    "\n",
    "def even_squared(num): \n",
    "    even_sum_list = []\n",
    "    for num in range(1, num+1):\n",
    "        if (num % 2 == 0):\n",
    "            s = (num**2)\n",
    "            even_sum_list.append(s)\n",
    "    return sorted(even_sum_list, reverse = False)\n",
    "        \n",
    "    \n",
    "x = even_squared(num)\n",
    "print(x)"
   ]
  },
  {
   "cell_type": "markdown",
   "metadata": {},
   "source": [
    "#### 2) Using a while loop and the **input()** function, read an indefinite amount of **integers** until the number read is **-1**. After this process, print two lists on the screen: The first containing the even integers, and the second containing the odd integers. Both must be in ascending order. "
   ]
  },
  {
   "cell_type": "code",
   "execution_count": 23,
   "metadata": {},
   "outputs": [
    {
     "name": "stdout",
     "output_type": "stream",
     "text": [
      "Input Number 8\n",
      "Input Number 8\n",
      "Input Number 6\n",
      "Input Number 5\n",
      "Input Number 4\n",
      "Input Number 5\n",
      "Input Number 6\n",
      "Input Number -1\n",
      "[5, 5]\n",
      "[4, 6, 6, 8, 8]\n"
     ]
    }
   ],
   "source": [
    "even = []   # lukas solution\n",
    "odd = []\n",
    "\n",
    "while True:     # question: Waht do I have to do to not get an error message, when nothing is entered\n",
    "    init = int(input('Input Number '))     \n",
    "    if (init <= (-1)):\n",
    "        break\n",
    "    elif (init == 0):\n",
    "        break\n",
    "    elif (init % 2 == 0):\n",
    "        even.append(init)\n",
    "    elif init % 2 == 1:\n",
    "        odd.append(init)\n",
    "\n",
    "      \n",
    "    \n",
    "x = sorted(odd, reverse= False) \n",
    "print(x)\n",
    "\n",
    "y = sorted(even, reverse= False)\n",
    "print(y)"
   ]
  },
  {
   "cell_type": "code",
   "execution_count": null,
   "metadata": {},
   "outputs": [],
   "source": [
    "even =[]    # sarahs solution\n",
    "odd =[]\n",
    "\n",
    "n = 0\n",
    "\n",
    "while n != -1:\n",
    "    n = int(input('Enter a number: '))\n",
    "    print(n)\n",
    "    \n",
    "    if n%2==0:\n",
    "        even.append(n)\n",
    "    elif n%2 != 0:\n",
    "        odd.append(n) \n",
    "else:\n",
    "    sorted_even= sorted(even)\n",
    "    sorted_odd= sorted(odd)\n",
    "    \n",
    "    print(sorted_even, sorted_odd)"
   ]
  },
  {
   "cell_type": "markdown",
   "metadata": {},
   "source": [
    "#### 3) Create a function called **\"even_account\"** that receives a list of integers, counts the number of existing even elements, and returns this count. "
   ]
  },
  {
   "cell_type": "code",
   "execution_count": 25,
   "metadata": {},
   "outputs": [
    {
     "name": "stdout",
     "output_type": "stream",
     "text": [
      "Enter multiple numbers2\n",
      "3\n",
      "54\n",
      "([54], 1)\n"
     ]
    }
   ],
   "source": [
    "N = int(input('Enter multiple numbers')) \n",
    "\n",
    "def even_account(N):                # Enter number of objects\n",
    "    init = []\n",
    "    even_count = 0\n",
    "    for num in range(0,N):                                   # Enter numbers in list \n",
    "        n = int(input())\n",
    "        if (n % 2 == 0):\n",
    "            init.append(n)\n",
    "            even_count += 1\n",
    "           # even_count = init.count()     # not working \n",
    "    return init, even_count\n",
    "    \n",
    "\n",
    "x = even_account(N)\n",
    "\n",
    "print(x)"
   ]
  },
  {
   "cell_type": "markdown",
   "metadata": {},
   "source": [
    "#### 4) Create a function called **\"squared_list\"** that receives a list of integers and returns another list whose elements are the squares of the elements of the first. "
   ]
  },
  {
   "cell_type": "code",
   "execution_count": 26,
   "metadata": {},
   "outputs": [
    {
     "name": "stdout",
     "output_type": "stream",
     "text": [
      "Enter a variaty of numbers7\n",
      "5\n",
      "4\n",
      "3\n",
      "2\n",
      "3\n",
      "4\n",
      "5\n",
      "[25, 16, 9, 4, 9, 16, 25]\n"
     ]
    }
   ],
   "source": [
    "N = int((input('Enter a variaty of numbers')))\n",
    "\n",
    "def squared_list(N):\n",
    "    \n",
    "    init = []\n",
    "    for num in range(0, N):\n",
    "        n = int(input())\n",
    "        squares = (n**2)\n",
    "        init.append(squares)\n",
    "    return init\n",
    "        \n",
    "x = squared_list(N)\n",
    "print(x)"
   ]
  },
  {
   "cell_type": "markdown",
   "metadata": {},
   "source": [
    "#### 5) Create a function called **\"descending\"** that receives two lists of integers and returns a single list, which contains all the elements in descending order, and may include repeated elements. "
   ]
  },
  {
   "cell_type": "code",
   "execution_count": null,
   "metadata": {},
   "outputs": [],
   "source": [
    "l1= [1,4,7,2,9,4]\n",
    "l2= [4,9,4,2,6,52]\n",
    "###these lists again are just to try the function\n",
    "\n",
    "def descending(l1,l2):\n",
    "    listall= l1+l2\n",
    "    listall.sort(reverse=True)\n",
    "\n",
    "    print(listall)\n",
    "descending(l1,l2)\n",
    "\n"
   ]
  },
  {
   "cell_type": "markdown",
   "metadata": {},
   "source": [
    "#### 6) Create a function called **\"adding\"** that receives a list **A**, and an arbitrary number of integers as input. Return a new list containing the elements of **A** plus the integers passed as input, in the order in which they were given. Here is an example: \n",
    "\n",
    ">```python\n",
    ">>>> A = [10,20,30]\n",
    ">>>> adding(A, 4, 10, 50, 1)\n",
    "> [10, 20, 30, 4, 10, 50, 1]\n",
    "```"
   ]
  },
  {
   "cell_type": "code",
   "execution_count": 29,
   "metadata": {},
   "outputs": [
    {
     "name": "stdout",
     "output_type": "stream",
     "text": [
      "([10, 20, 30], 4, 10, 50, 1)\n"
     ]
    }
   ],
   "source": [
    "A = [10,20,30]\n",
    "\n",
    "\n",
    "\n",
    "\n",
    "def adding(*args):\n",
    "    init = []\n",
    "    for arg in args:\n",
    "       # init_2 = args[0] # no idea how to remove the brackets of the inner list\n",
    "        init = args\n",
    "        return init\n",
    "\n",
    "\n",
    "\n",
    "x = adding(A,4,10,50,1)\n",
    "x = print(x)    "
   ]
  },
  {
   "cell_type": "markdown",
   "metadata": {},
   "source": [
    "#### 7) Create a function called **\"intersection\"** that receives two input lists and returns another list with the values that belong to the two lists simultaneously (intersection) without repetition of values and in ascending order. Use only lists (do not use sets); loops and conditionals. See the example: \n",
    "\n",
    ">```python\n",
    ">>>> A = [-2, 0, 1, 2, 3]\n",
    ">>>> B = [-1, 2, 3, 6, 8]\n",
    ">>>> intersection(A,B)\n",
    "> [2, 3]\n",
    "```"
   ]
  },
  {
   "cell_type": "code",
   "execution_count": 31,
   "metadata": {},
   "outputs": [
    {
     "name": "stdout",
     "output_type": "stream",
     "text": [
      "[2, 6, 7]\n"
     ]
    }
   ],
   "source": [
    "A = [4,6,7,2,-1,4]\n",
    "B = [5,2,-3,9,6,7]\n",
    "C= []\n",
    "def intersection(A,B):\n",
    "    for i in A: \n",
    "        if i in B: \n",
    "            C.append(i)\n",
    "            C.sort()\n",
    "    print(C)\n",
    "intersection(A,B)\n"
   ]
  },
  {
   "cell_type": "markdown",
   "metadata": {},
   "source": [
    "#### 8) Create a function called **\"union\"** that receives two input lists and returns another list with the union of the elements of the two received, without repetition of elements and in ascending order. Use only lists (do not use sets); loops and conditionals. See the example: \n",
    "\n",
    ">```python\n",
    ">>>> A = [-2, 0, 1, 2]\n",
    ">>>> B = [-1, 1, 2, 10]\n",
    ">>>> union(A,B)\n",
    "> [-2, ,-1, 0, 1, 2, 10]\n",
    "```"
   ]
  },
  {
   "cell_type": "code",
   "execution_count": 200,
   "metadata": {},
   "outputs": [
    {
     "name": "stdout",
     "output_type": "stream",
     "text": [
      "[-2, -1, 0, 1, 2, 10]\n"
     ]
    }
   ],
   "source": [
    "nokia = [-2, 0, 1, 2]  # lukas solution\n",
    "init = [-1, 1, 2, 10]\n",
    "\n",
    "def union(init, nokia):\n",
    "    unified = []\n",
    "    for i in init:\n",
    "        for n in nokia:\n",
    "            if n not in init:\n",
    "                init.append(n)\n",
    "                unified = sorted(init)\n",
    "    return unified #unified without set\n",
    "            \n",
    "            \n",
    "                \n",
    "x = union(init,nokia)\n",
    "print(x)"
   ]
  },
  {
   "cell_type": "code",
   "execution_count": 33,
   "metadata": {},
   "outputs": [
    {
     "name": "stdout",
     "output_type": "stream",
     "text": [
      "[-2, -1, 0, 1, 2, 10]\n"
     ]
    }
   ],
   "source": [
    "A = [-2, 0, 1, 2]   # sarah solution\n",
    "B = [-1, 1, 2, 10]\n",
    "C=[]\n",
    "def union(A,B):\n",
    "    for i in A:\n",
    "        if i not in B:\n",
    "            C.append(i)\n",
    "    Cnew = C+B\n",
    "    Cnew.sort()\n",
    "    print(Cnew)\n",
    "union(A,B)"
   ]
  },
  {
   "cell_type": "markdown",
   "metadata": {},
   "source": [
    "#### 9) Generalize the **\"intersection\"** function so that it receives an indefinite number of lists and returns the intersection of all of them. Call the new function **intersection2**. "
   ]
  },
  {
   "cell_type": "code",
   "execution_count": 40,
   "metadata": {},
   "outputs": [
    {
     "name": "stdout",
     "output_type": "stream",
     "text": [
      "[[-2, 0, 1, 2, 3], [-1, 2, 3, 6, 8], [-8, -7, 6, -2, 8, 3, 0]]\n",
      "[[-2, 0, 1, 2, 3], [-1, 2, 3, 6, 8], [-8, -7, 6, -2, 8, 3, 0]]\n"
     ]
    }
   ],
   "source": [
    "A = [-2, 0, 1, 2, 3]  # lukas solution - not working\n",
    "B = [-1, 2, 3, 6, 8]\n",
    "D = [-8,-7, 6,-2, 8, 3, 0]\n",
    "E = [[-8,-7, 6,-2, 8, 3, 0],[-1, 2, 3, 6, 8],[-2, 0, 1, 2, 3]]\n",
    "\n",
    "def intersection_2(*args):\n",
    "    for arg in args:\n",
    "        init = [arg for arg in args if arg in args]\n",
    "        print(init)\n",
    "        return init                           \n",
    "\n",
    "\n",
    "    \n",
    "    \n",
    "x = intersection_2(A,B,D)\n",
    "print(x)\n",
    "    "
   ]
  },
  {
   "cell_type": "code",
   "execution_count": 51,
   "metadata": {},
   "outputs": [
    {
     "name": "stdout",
     "output_type": "stream",
     "text": [
      "[]\n"
     ]
    }
   ],
   "source": [
    "def intersect_2(*lists):    # sarah solution - not working\n",
    "    if(len(lists) <=1):\n",
    "        return lists[0]\n",
    "    else:   \n",
    "        result = lists[0]     #I'm not sure how to call lists? \n",
    "        final =[]\n",
    "        for i in range(1, len(lists)):\n",
    "            if i in lists :\n",
    "                final.append(i)\n",
    "        return final\n",
    "        \n",
    "                \n",
    "x = intersect_2([1,2,3],[4,5,6],[3,4,5])\n",
    "print(x)\n"
   ]
  },
  {
   "cell_type": "markdown",
   "metadata": {},
   "source": [
    "## Challenge\n",
    "\n",
    "#### 10) Create a function named **\"matrix\"** that implements matrix multiplication:\n",
    "    \n",
    "Given the matrices:\n",
    "    \n",
    "$A_{m\\times n}=\n",
    "\\left[\\begin{matrix}\n",
    "a_{11}&a_{12}&...&a_{1n}\\\\\n",
    "a_{21}&a_{22}&...&a_{2n}\\\\\n",
    "\\vdots &\\vdots &&\\vdots\\\\\n",
    "a_{m1}&a_{m2}&...&a_{mn}\\\\\n",
    "\\end{matrix}\\right]$\n",
    "    \n",
    "We will represent then as a list of lists.\n",
    "\n",
    "$A = [[a_{11},a_{12},...,a_{1n}],[a_{21},a_{22},...,a_{2n}], . . . ,[a_{m1},a_{m2},...,a_{mn}]]$\n",
    "\n",
    "The **\"matrix\"** funtion must receive two matrices $A$ e $B$ in the specified format and return $A\\times B$"
   ]
  },
  {
   "cell_type": "code",
   "execution_count": 52,
   "metadata": {},
   "outputs": [
    {
     "ename": "IndexError",
     "evalue": "list index out of range",
     "output_type": "error",
     "traceback": [
      "\u001b[1;31m---------------------------------------------------------------------------\u001b[0m",
      "\u001b[1;31mIndexError\u001b[0m                                Traceback (most recent call last)",
      "\u001b[1;32m<ipython-input-52-2835def8e3ea>\u001b[0m in \u001b[0;36m<module>\u001b[1;34m\u001b[0m\n\u001b[0;32m     12\u001b[0m     \u001b[1;32mfor\u001b[0m \u001b[0mr\u001b[0m \u001b[1;32min\u001b[0m \u001b[0mresult\u001b[0m\u001b[1;33m:\u001b[0m\u001b[1;33m\u001b[0m\u001b[0m\n\u001b[0;32m     13\u001b[0m         \u001b[0mprint\u001b[0m\u001b[1;33m(\u001b[0m\u001b[0mr\u001b[0m\u001b[1;33m)\u001b[0m\u001b[1;33m\u001b[0m\u001b[0m\n\u001b[1;32m---> 14\u001b[1;33m \u001b[0mmatrix\u001b[0m\u001b[1;33m(\u001b[0m\u001b[1;33m[\u001b[0m\u001b[1;33m[\u001b[0m\u001b[1;36m1\u001b[0m\u001b[1;33m,\u001b[0m\u001b[1;36m3\u001b[0m\u001b[1;33m,\u001b[0m\u001b[1;36m5\u001b[0m\u001b[1;33m]\u001b[0m\u001b[1;33m,\u001b[0m\u001b[1;33m[\u001b[0m\u001b[1;36m6\u001b[0m\u001b[1;33m,\u001b[0m\u001b[1;36m7\u001b[0m\u001b[1;33m,\u001b[0m\u001b[1;36m8\u001b[0m\u001b[1;33m]\u001b[0m\u001b[1;33m,\u001b[0m\u001b[1;33m[\u001b[0m\u001b[1;36m9\u001b[0m\u001b[1;33m,\u001b[0m\u001b[1;36m4\u001b[0m\u001b[1;33m,\u001b[0m\u001b[1;36m2\u001b[0m\u001b[1;33m]\u001b[0m\u001b[1;33m]\u001b[0m\u001b[1;33m,\u001b[0m \u001b[1;33m[\u001b[0m\u001b[1;33m[\u001b[0m\u001b[1;36m2\u001b[0m\u001b[1;33m,\u001b[0m\u001b[1;36m3\u001b[0m\u001b[1;33m,\u001b[0m\u001b[1;36m4\u001b[0m\u001b[1;33m]\u001b[0m\u001b[1;33m,\u001b[0m\u001b[1;33m[\u001b[0m\u001b[1;36m3\u001b[0m\u001b[1;33m,\u001b[0m\u001b[1;36m7\u001b[0m\u001b[1;33m,\u001b[0m\u001b[1;36m9\u001b[0m\u001b[1;33m]\u001b[0m\u001b[1;33m,\u001b[0m\u001b[1;33m[\u001b[0m\u001b[1;36m8\u001b[0m\u001b[1;33m,\u001b[0m\u001b[1;36m3\u001b[0m\u001b[1;33m,\u001b[0m\u001b[1;36m1\u001b[0m\u001b[1;33m]\u001b[0m\u001b[1;33m]\u001b[0m\u001b[1;33m)\u001b[0m\u001b[1;33m\u001b[0m\u001b[0m\n\u001b[0m\u001b[0;32m     15\u001b[0m \u001b[1;31m###does not work yet\u001b[0m\u001b[1;33m\u001b[0m\u001b[1;33m\u001b[0m\u001b[0m\n",
      "\u001b[1;32m<ipython-input-52-2835def8e3ea>\u001b[0m in \u001b[0;36mmatrix\u001b[1;34m(A, B)\u001b[0m\n\u001b[0;32m      8\u001b[0m         \u001b[1;31m# iterating by rows of B\u001b[0m\u001b[1;33m\u001b[0m\u001b[1;33m\u001b[0m\u001b[0m\n\u001b[0;32m      9\u001b[0m             \u001b[1;32mfor\u001b[0m \u001b[0mk\u001b[0m \u001b[1;32min\u001b[0m \u001b[0mrange\u001b[0m\u001b[1;33m(\u001b[0m\u001b[0mlen\u001b[0m\u001b[1;33m(\u001b[0m\u001b[0mB\u001b[0m\u001b[1;33m)\u001b[0m\u001b[1;33m)\u001b[0m\u001b[1;33m:\u001b[0m\u001b[1;33m\u001b[0m\u001b[0m\n\u001b[1;32m---> 10\u001b[1;33m                 \u001b[0mresult\u001b[0m\u001b[1;33m[\u001b[0m\u001b[0mi\u001b[0m\u001b[1;33m]\u001b[0m\u001b[1;33m[\u001b[0m\u001b[0mj\u001b[0m\u001b[1;33m]\u001b[0m \u001b[1;33m+=\u001b[0m \u001b[0mA\u001b[0m\u001b[1;33m[\u001b[0m\u001b[0mi\u001b[0m\u001b[1;33m]\u001b[0m\u001b[1;33m[\u001b[0m\u001b[0mk\u001b[0m\u001b[1;33m]\u001b[0m \u001b[1;33m*\u001b[0m \u001b[0mB\u001b[0m\u001b[1;33m[\u001b[0m\u001b[0mk\u001b[0m\u001b[1;33m]\u001b[0m\u001b[1;33m[\u001b[0m\u001b[0mj\u001b[0m\u001b[1;33m]\u001b[0m\u001b[1;33m\u001b[0m\u001b[0m\n\u001b[0m\u001b[0;32m     11\u001b[0m \u001b[1;33m\u001b[0m\u001b[0m\n\u001b[0;32m     12\u001b[0m     \u001b[1;32mfor\u001b[0m \u001b[0mr\u001b[0m \u001b[1;32min\u001b[0m \u001b[0mresult\u001b[0m\u001b[1;33m:\u001b[0m\u001b[1;33m\u001b[0m\u001b[0m\n",
      "\u001b[1;31mIndexError\u001b[0m: list index out of range"
     ]
    }
   ],
   "source": [
    "def matrix(A,B):\n",
    "    result = []\n",
    "    for i in range(len(A)): \n",
    "  \n",
    "        # iterating by coloum by B  \n",
    "        for j in range(len(B[0])): \n",
    "  \n",
    "        # iterating by rows of B \n",
    "            for k in range(len(B)): \n",
    "                result[i][j] += A[i][k] * B[k][j] \n",
    "  \n",
    "    for r in result: \n",
    "        print(r)\n",
    "matrix([[1,3,5],[6,7,8],[9,4,2]], [[2,3,4],[3,7,9],[8,3,1]])\n",
    "###does not work yet"
   ]
  }
 ],
 "metadata": {
  "kernelspec": {
   "display_name": "Python 3",
   "language": "python",
   "name": "python3"
  },
  "language_info": {
   "codemirror_mode": {
    "name": "ipython",
    "version": 3
   },
   "file_extension": ".py",
   "mimetype": "text/x-python",
   "name": "python",
   "nbconvert_exporter": "python",
   "pygments_lexer": "ipython3",
   "version": "3.7.0"
  }
 },
 "nbformat": 4,
 "nbformat_minor": 4
}
